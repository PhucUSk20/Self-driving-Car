{
 "cells": [
  {
   "cell_type": "code",
   "execution_count": 11,
   "id": "c854cf16",
   "metadata": {},
   "outputs": [],
   "source": [
    "import socket\n",
    "import threading\n",
    "\n",
    "\n",
    "server_running = True\n",
    "\n",
    "def run_socket_server():\n",
    "    HOST = '0.0.0.0'  # Listen on all network interfaces\n",
    "    PORT = 5002\n",
    "\n",
    "    with socket.socket(socket.AF_INET, socket.SOCK_STREAM) as server_socket:\n",
    "        server_socket.bind((HOST, PORT))\n",
    "        server_socket.listen()\n",
    "\n",
    "        print(f\"Server listening on port {PORT}\")\n",
    "\n",
    "        while server_running:\n",
    "            client_socket, addr = server_socket.accept()\n",
    "            print(f\"Connected to {addr}\")\n",
    "\n",
    "            with client_socket:\n",
    "                while True:\n",
    "                    data = client_socket.recv(1024)\n",
    "                    if not data:\n",
    "                        break\n",
    "                    message = data.decode()\n",
    "                    print(f\"Received: {message}\")\n",
    "                    \n",
    "                    if message.startswith(\"token=\"):\n",
    "                        message_to_send = \"Token received\\n\"\n",
    "                        client_socket.sendall(message_to_send.encode())\n",
    "                        print(\"Token received message sent to client\")\n",
    "                    else:\n",
    "                        message_to_send = \"Token not received\\n\"\n",
    "                        client_socket.sendall(message_to_send.encode())\n",
    "                        print(\"Message sent\")"
   ]
  },
  {
   "cell_type": "code",
   "execution_count": 12,
   "id": "02461fea",
   "metadata": {},
   "outputs": [
    {
     "name": "stdout",
     "output_type": "stream",
     "text": [
      "Server listening on port 5002\n",
      "Connected to ('192.168.1.3', 40802)\n",
      "Received: token=dZuIIHBhS1yEBpaeumyJ3G:APA91bGLiqPBTl7U8ommmhXAEaStJsjNu4pXpzbf4iXq0CYHOJWmeRUYAtk6YOgR2GIs9KqMQWSq5XyXW_T2zUnKn5PgPKDkgxtk2iu7uSoXr2RGZuulwS6KELJ-3MZV2b8UB__4jytn\n",
      "Token received message sent to client\n",
      "Connected to ('192.168.1.3', 40838)\n",
      "Received: token=dZuIIHBhS1yEBpaeumyJ3G:APA91bGLiqPBTl7U8ommmhXAEaStJsjNu4pXpzbf4iXq0CYHOJWmeRUYAtk6YOgR2GIs9KqMQWSq5XyXW_T2zUnKn5PgPKDkgxtk2iu7uSoXr2RGZuulwS6KELJ-3MZV2b8UB__4jytn\n",
      "Token received message sent to client\n"
     ]
    }
   ],
   "source": [
    "server_thread = threading.Thread(target=run_socket_server)\n",
    "server_thread.start()"
   ]
  },
  {
   "cell_type": "code",
   "execution_count": null,
   "id": "2e48c894",
   "metadata": {},
   "outputs": [],
   "source": []
  },
  {
   "cell_type": "code",
   "execution_count": 16,
   "id": "15647f2f",
   "metadata": {},
   "outputs": [],
   "source": [
    "server_running = False"
   ]
  },
  {
   "cell_type": "code",
   "execution_count": 14,
   "id": "55f5873a",
   "metadata": {},
   "outputs": [
    {
     "name": "stdout",
     "output_type": "stream",
     "text": [
      "{'multicast_ids': [1843847611368799693], 'success': 1, 'failure': 0, 'canonical_ids': 0, 'results': [{'message_id': '0:1711957722019819%e4cac532e4cac532'}], 'topic_message_id': None}\n"
     ]
    }
   ],
   "source": [
    "from pyfcm import FCMNotification\n",
    "\n",
    "push_service = FCMNotification(api_key=\"AAAAR4SAIBs:APA91bE8hxTnaAuQFdx2PmOnXsNBZhKwFoSEX1b3Gr6YULkt7tTh9rMBaXB-EONyWTbIWI3KGnjiIGFCpSB7nPt6EYwHPGhopQ2rRAKFOoxM4_p1xN8eZU42bGlb5jYeUCtx06Y79Hl7\")\n",
    "\n",
    "registration_id = \"dZuIIHBhS1yEBpaeumyJ3G:APA91bGLiqPBTl7U8ommmhXAEaStJsjNu4pXpzbf4iXq0CYHOJWmeRUYAtk6YOgR2GIs9KqMQWSq5XyXW_T2zUnKn5PgPKDkgxtk2iu7uSoXr2RGZuulwS6KELJ-3MZV2b8UB__4jytn\"\n",
    "message_title = \"Jetracer\"\n",
    "message_body = \"Intruder Alert! Intruder Alert!\"\n",
    "result = push_service.notify_single_device(registration_id=registration_id, message_title=message_title, message_body=message_body)\n",
    "print (result)"
   ]
  },
  {
   "cell_type": "code",
   "execution_count": null,
   "id": "10d9334b",
   "metadata": {},
   "outputs": [],
   "source": [
    "# lsof -i :5002 \n",
    "# sudo kill -9 12930"
   ]
  }
 ],
 "metadata": {
  "kernelspec": {
   "display_name": "Python 3",
   "language": "python",
   "name": "python3"
  },
  "language_info": {
   "codemirror_mode": {
    "name": "ipython",
    "version": 3
   },
   "file_extension": ".py",
   "mimetype": "text/x-python",
   "name": "python",
   "nbconvert_exporter": "python",
   "pygments_lexer": "ipython3",
   "version": "3.6.9"
  }
 },
 "nbformat": 4,
 "nbformat_minor": 5
}
