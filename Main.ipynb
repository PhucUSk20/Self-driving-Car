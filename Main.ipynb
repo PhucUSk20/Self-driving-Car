{
 "cells": [
  {
   "cell_type": "code",
   "execution_count": 1,
   "id": "4b6d3136",
   "metadata": {},
   "outputs": [],
   "source": [
    "from jetcam.csi_camera import CSICamera\n",
    "from jetcam.utils import bgr8_to_jpeg\n",
    "\n",
    "camera = CSICamera(width=224, height=224, capture_fps=40)\n",
    "\n",
    "from jetracer.nvidia_racecar import NvidiaRacecar\n",
    "\n",
    "car = NvidiaRacecar()"
   ]
  },
  {
   "cell_type": "code",
   "execution_count": 2,
   "id": "5ba44d47",
   "metadata": {},
   "outputs": [],
   "source": [
    "import cv2\n",
    "import ipywidgets\n",
    "import threading\n",
    "from jetracer.nvidia_racecar import NvidiaRacecar\n",
    "from jetcam.csi_camera import CSICamera\n",
    "import traitlets\n",
    "from IPython.display import display\n",
    "from ipywidgets import Layout, Button, Box\n",
    "import ipywidgets.widgets as widgets\n",
    "from jetcam.utils import bgr8_to_jpeg\n",
    "import cv2\n",
    "prediction_widget = ipywidgets.Image(format='jpeg', width=500, height=500)\n",
    "camera.running = True\n",
    "import re\n",
    "A, B, C, D, E, F = None, None, None, None, None, None\n",
    "qr_detected = False  \n",
    "\n",
    "# Function to extract variables from QR code value and save them as global variables\n",
    "def extract_variables_from_qr_code(value):\n",
    "    global A, B, C, D, E, F\n",
    "    # Using regular expression to find all occurrences of letter followed by digits\n",
    "    matches = re.findall(r'([A-Za-z])(\\d+)', value)\n",
    "    \n",
    "    # Iterating through matches and saving them as global variables\n",
    "    for match in matches:\n",
    "        variable_name = match[0]\n",
    "        variable_value = match[0] + match[1]\n",
    "        globals()[variable_name] = variable_value\n",
    "# Global variable to control thread execution\n",
    "qr_reader_running = True\n",
    "\n",
    "printed_qr_codes = set()\n",
    "\n",
    "def read_qr_code_from_camera():\n",
    "    \"\"\"Read QR code from camera feed.\"\"\"\n",
    "    global qr_reader_running, qr_detected\n",
    "    global A, B, C, D, E, F\n",
    "    try:\n",
    "        detect = cv2.QRCodeDetector()\n",
    "\n",
    "        while qr_reader_running:\n",
    "            frame = camera.value  # Read a frame from the camera\n",
    "            prediction = frame.copy()\n",
    "            \n",
    "            value, bbox, straight_qrcode = detect.detectAndDecode(frame)\n",
    "\n",
    "            if value and value not in printed_qr_codes:\n",
    "                print(\"QR Code Value:\", value)\n",
    "                printed_qr_codes.add(value)\n",
    "                extract_variables_from_qr_code(value)\n",
    "                if A is not None:\n",
    "                    print(\"A:\", A)\n",
    "                if B is not None:\n",
    "                    print(\"B:\", B)\n",
    "                if C is not None:\n",
    "                    print(\"C:\", C)\n",
    "                if D is not None:\n",
    "                    print(\"D:\", D)\n",
    "                if E is not None:\n",
    "                    print(\"E:\", E)\n",
    "                if F is not None:\n",
    "                    print(\"F:\", F)\n",
    "                if bbox is not None and len(bbox) > 0:\n",
    "                    x1, y1 = bbox[0][0][0], bbox[0][0][1]\n",
    "                    x2, y2 = bbox[2][0][0], bbox[2][0][1]\n",
    "                 \n",
    "                    prediction = cv2.rectangle(prediction, (x1, y1), (x2, y2), (0, 0, 255), 2)\n",
    "                    prediction = cv2.putText(prediction, value, (int(x1), int(y1) - 10), cv2.FONT_HERSHEY_SIMPLEX, 1, (0, 0, 255), 2)\n",
    "\n",
    "                prediction_widget.value = bgr8_to_jpeg(prediction)\n",
    "                qr_detected = True  # Set QR detected flag\n",
    "                qr_reader_running = False  # Stop recording when QR code is detected\n",
    "                print(f\"QR Detected: {qr_detected}\")\n",
    "            else:\n",
    "                prediction_widget.value = bgr8_to_jpeg(prediction)\n",
    "    except Exception as e:\n",
    "        print(\"An error occurred:\", str(e))\n",
    "        return None\n",
    "\n",
    "# Function to stop the QR code reader thread\n",
    "def stop_qr_code_reader():\n",
    "    global qr_reader_running\n",
    "    qr_reader_running = False\n",
    "\n",
    "# Function to run read_qr_code_from_camera() in a separate thread\n",
    "def run_qr_code_reader():\n",
    "    global qr_reader_thread\n",
    "    qr_reader_thread = threading.Thread(target=read_qr_code_from_camera)\n",
    "    qr_reader_thread.start()\n",
    "\n",
    "# Call the function to start the QR code reader in a separate thread\n",
    "\n",
    "\n",
    "# Call the function to stop the QR code reader thread (wherever you want to stop it)\n",
    "# stop_qr_code_reader()"
   ]
  },
  {
   "cell_type": "code",
   "execution_count": 3,
   "id": "a8269f38",
   "metadata": {},
   "outputs": [
    {
     "name": "stdout",
     "output_type": "stream",
     "text": [
      " * Serving Flask app '__main__' (lazy loading)\n",
      " * Environment: production\n"
     ]
    }
   ],
   "source": [
    "#!/usr/bin/env python\n",
    "from flask import Flask, render_template, Response\n",
    "import cv2\n",
    "import threading\n",
    "\n",
    "\n",
    "app = Flask(__name__)\n",
    "\n",
    "server_running = True\n",
    "# After gen is called infinite loop will take frame by frame from camera class,\n",
    "# and yeild it to the client in jpeg data form\n",
    "def gen():\n",
    "    \"\"\"Video streaming generator function.\"\"\"\n",
    "    while server_running:\n",
    "        frame = camera.value\n",
    "        if frame is not None:\n",
    "            # Resize the frame to be twice as big\n",
    "            # frame = cv2.resize(frame, (frame.shape[1] * 2, frame.shape[0] * 2))\n",
    "            \n",
    "            # Encode the resized frame into JPEG format\n",
    "            frame_bytes = cv2.imencode('.jpg', frame)[1].tobytes()\n",
    "            yield (b'--frame\\r\\n'\n",
    "                   b'Content-Type: image/jpeg\\r\\n\\r\\n' + frame_bytes + b'\\r\\n')\n",
    "        else:\n",
    "            print(\"Error: Empty frame received.\")\n",
    "\n",
    "# When client is forwarded to /video_feed, it will call 'gen' function\n",
    "# with imported camera class as a paremeter\n",
    "@app.route('/video_feed')\n",
    "def video_feed():\n",
    "    \"\"\"Video streaming route. Put this in the src attribute of an img tag.\"\"\"\n",
    "    return Response(gen(), mimetype='multipart/x-mixed-replace; boundary=frame')\n",
    "\n",
    "# When client demands root, index.html will forward it to video feed\n",
    "@app.route('/')\n",
    "def index():\n",
    "    \"\"\"Seurveillance camera monitoring\"\"\"\n",
    "    return render_template('index.html')\n",
    "\n",
    "@app.route('/one')\n",
    "def hello_one():\n",
    "    return 'hello one'\n",
    "\n",
    "@app.route('/image')\n",
    "def image():\n",
    "    frame = camera.value\n",
    "    if frame is not None:\n",
    "        frame_bytes = cv2.imencode('.jpg', frame)[1].tobytes()\n",
    "        return Response(frame_bytes, mimetype='image/jpeg')\n",
    "    else:\n",
    "        # Handle case when the frame is empty\n",
    "        return \"Error: Empty frame received.\"\n",
    "\n",
    "def run_flask():\n",
    "    app.run(host='0.0.0.0', port=5000, threaded=True, debug=False, use_reloader=False)\n",
    "\n",
    "if __name__ == '__main__':\n",
    "    flask_thread = threading.Thread(target=run_flask)\n",
    "    flask_thread.start()"
   ]
  },
  {
   "cell_type": "code",
   "execution_count": 4,
   "id": "228358c1",
   "metadata": {},
   "outputs": [
    {
     "name": "stdout",
     "output_type": "stream",
     "text": [
      "\u001b[31m   WARNING: This is a development server. Do not use it in a production deployment.\u001b[0m\n",
      "\u001b[2m   Use a production WSGI server instead.\u001b[0m\n",
      "Server started at nano-4gb-jp451 on port 5001\n",
      "IP Address:127.0.1.1\n",
      " * Debug mode: off\n"
     ]
    }
   ],
   "source": [
    "import socket\n",
    "import time\n",
    "import threading\n",
    "\n",
    "running = False\n",
    "\n",
    "def handle_client(clientsocket):\n",
    "    global running\n",
    "    while True:\n",
    "        try:\n",
    "            message = clientsocket.recv(1024).decode()  # Receives Message\n",
    "            if not message:\n",
    "                break\n",
    "            message = message.strip()\n",
    "            if message == \"control_on\":\n",
    "                running = True\n",
    "                print(\"Control mode activated.\")\n",
    "            elif message == \"control_off\":\n",
    "                running = False\n",
    "                print(\"Control mode deactivated.\")\n",
    "            elif running:  # Only execute control commands if control_mode is True\n",
    "                if message == \"forward\":\n",
    "                    car.throttle = -0.5\n",
    "                elif message == \"left\":\n",
    "                    car.steering = 1.0\n",
    "                elif message == \"right\":\n",
    "                    car.steering = -1.0\n",
    "                elif message == \"forward_left\":\n",
    "                    car.throttle = -0.5\n",
    "                    car.steering = 1.0\n",
    "                elif message == \"forward_right\":\n",
    "                    car.throttle = -0.5\n",
    "                    car.steering = -1.0\n",
    "                elif message == \"reverse\":\n",
    "                    car.throttle = 0.5\n",
    "                elif message == \"reverse_left\":\n",
    "                    car.throttle = 0.5\n",
    "                    car.steering = 1.0\n",
    "                elif message == \"reverse_right\":\n",
    "                    car.throttle = 0.5\n",
    "                    car.steering = -1.0\n",
    "                elif message == \"stop\":\n",
    "                    car.throttle = 0.0\n",
    "                    car.steering = 0.0\n",
    "        except ConnectionResetError:\n",
    "            break\n",
    "\n",
    "def start_server():\n",
    "    # Defines Server Values\n",
    "    listensocket = socket.socket()\n",
    "    Port = 5001\n",
    "    maxConnections = 999\n",
    "    IP = socket.gethostname() # Gets Hostname Of Current Machine\n",
    "    ip_address = socket.gethostbyname(IP)\n",
    "\n",
    "    listensocket.bind(('', Port))\n",
    "\n",
    "    # Opens Server\n",
    "    listensocket.listen(maxConnections)\n",
    "    print(\"Server started at \" + IP + \" on port \" + str(Port))\n",
    "    print(\"IP Address:\" + ip_address)\n",
    "\n",
    "    # Accepts Incoming Connections in a loop\n",
    "    while True:\n",
    "        try:\n",
    "            (clientsocket, address) = listensocket.accept()\n",
    "            print(\"New connection made!\")\n",
    "            client_thread = threading.Thread(target=handle_client, args=(clientsocket,))\n",
    "            client_thread.start()\n",
    "        except Exception as e:\n",
    "            print(f\"Error accepting connections: {e}\")\n",
    "            break\n",
    "\n",
    "server_thread = threading.Thread(target=start_server)\n",
    "server_thread.start()"
   ]
  },
  {
   "cell_type": "code",
   "execution_count": 5,
   "id": "07fbd9bf",
   "metadata": {},
   "outputs": [
    {
     "name": "stderr",
     "output_type": "stream",
     "text": [
      " * Running on all addresses.\n",
      "   WARNING: This is a development server. Do not use it in a production deployment.\n",
      " * Running on http://192.168.1.14:5000/ (Press CTRL+C to quit)\n"
     ]
    },
    {
     "data": {
      "text/plain": [
       "<All keys matched successfully>"
      ]
     },
     "execution_count": 5,
     "metadata": {},
     "output_type": "execute_result"
    }
   ],
   "source": [
    "import torch\n",
    "from torch2trt import TRTModule\n",
    "\n",
    "model_trt = TRTModule()\n",
    "model_trt.load_state_dict(torch.load('road_following_model2-Copy1.pth'))"
   ]
  },
  {
   "cell_type": "code",
   "execution_count": 6,
   "id": "9330e937",
   "metadata": {},
   "outputs": [],
   "source": [
    "from utils import preprocess\n",
    "\n",
    "STEERING_GAIN = -2\n",
    "STEERING_BIAS = -0.3"
   ]
  },
  {
   "cell_type": "code",
   "execution_count": 7,
   "id": "d0561cff",
   "metadata": {},
   "outputs": [],
   "source": [
    "import torchvision\n",
    "from torch2trt import TRTModule\n",
    "\n",
    "#model = TRTModule()\n",
    "#ALEXNET\n",
    "model = torchvision.models.alexnet(pretrained=False)\n",
    "model.classifier[6] = torch.nn.Linear(model.classifier[6].in_features, 8)\n",
    "model.load_state_dict(torch.load('recognition_model.pth'))\n",
    "device = torch.device('cuda')\n",
    "model = model.to(device)"
   ]
  },
  {
   "cell_type": "code",
   "execution_count": 8,
   "id": "929b9c7f",
   "metadata": {},
   "outputs": [],
   "source": [
    "import traitlets\n",
    "from IPython.display import display\n",
    "import ipywidgets.widgets as widgets\n",
    "import time\n",
    "\n",
    "#image = widgets.Image(format='jpeg', width=224, height=224)\n",
    "#camera_link = traitlets.dlink((camera, 'value'), (image, 'value'), transform=bgr8_to_jpeg)\n",
    "\n",
    "blocked_disp = widgets.FloatProgress(\n",
    "    value=0.5,\n",
    "    min=0,\n",
    "    max=1.0,\n",
    "    description='Blocked probability:',\n",
    "    bar_style='info',\n",
    "    style={'bar_color': '#ffff00'},\n",
    "    orientation='horizontal'\n",
    ")\n",
    "\n",
    "free_disp = widgets.FloatProgress(\n",
    "    value=0.5,\n",
    "    min=0,\n",
    "    max=1.0,\n",
    "    description='Free probability:',\n",
    "    bar_style='info',\n",
    "    style={'bar_color': '#ffff00'},\n",
    "    orientation='horizontal'\n",
    ")\n",
    "\n",
    "\n",
    "fid1_disp = widgets.FloatProgress(\n",
    "    value=0.5,\n",
    "    min=0,\n",
    "    max=1.0,\n",
    "    description='Fid1 probability:',\n",
    "    bar_style='info',\n",
    "    style={'bar_color': '#ffff00'},\n",
    "    orientation='horizontal'\n",
    ")\n",
    "\n",
    "fid2_disp = widgets.FloatProgress(\n",
    "    value=0.5,\n",
    "    min=0,\n",
    "    max=1.0,\n",
    "    description='Fid2 probability:',\n",
    "    bar_style='info',\n",
    "    style={'bar_color': '#ffff00'},\n",
    "    orientation='horizontal'\n",
    ")\n",
    "fid3_disp = widgets.FloatProgress(\n",
    "    value=0.5,\n",
    "    min=0,\n",
    "    max=1.0,\n",
    "    description='Fid3 probability:',\n",
    "    bar_style='info',\n",
    "    style={'bar_color': '#ffff00'},\n",
    "    orientation='horizontal'\n",
    ")\n",
    "\n",
    "fid4_disp = widgets.FloatProgress(\n",
    "    value=0.5,\n",
    "    min=0,\n",
    "    max=1.0,\n",
    "    description='Fid4 probability:',\n",
    "    bar_style='info',\n",
    "    style={'bar_color': '#ffff00'},\n",
    "    orientation='horizontal'\n",
    ")\n",
    "\n",
    "fid5_disp = widgets.FloatProgress(\n",
    "    value=0.5,\n",
    "    min=0,\n",
    "    max=1.0,\n",
    "    description='Fid5 probability:',\n",
    "    bar_style='info',\n",
    "    style={'bar_color': '#ffff00'},\n",
    "    orientation='horizontal'\n",
    ")\n",
    "\n",
    "fid6_disp = widgets.FloatProgress(\n",
    "    value=0.5,\n",
    "    min=0,\n",
    "    max=1.0,\n",
    "    description='Fid6 probability:',\n",
    "    bar_style='info',\n",
    "    style={'bar_color': '#ffff00'},\n",
    "    orientation='horizontal'\n",
    ")\n",
    "\n",
    "steering_disp = widgets.FloatProgress(\n",
    "    value=0.0,\n",
    "    min=-1.0,\n",
    "    max=1.0,\n",
    "    description='Direction:',\n",
    "    bar_style='info',\n",
    "    style={'bar_color': '#ffff00'},\n",
    "    orientation='horizontal'\n",
    ")\n",
    "\n",
    "fps = widgets.FloatText(\n",
    "    value=0.0,\n",
    "    description='FPS:',\n",
    "    disabled=False\n",
    ")\n",
    "\n",
    "obj = widgets.FloatText(\n",
    "    value=1,\n",
    "    description='Objetivo:',\n",
    "    disabled=False\n",
    ")"
   ]
  },
  {
   "cell_type": "code",
   "execution_count": 10,
   "id": "553cf56b",
   "metadata": {},
   "outputs": [],
   "source": [
    "import serial\n",
    "import time\n",
    "import threading\n",
    "\n",
    "arduino_port = '/dev/ttyACM0' \n",
    "baud_rate = 9600  \n",
    "ser = serial.Serial(arduino_port, baud_rate, timeout=1)\n",
    "time.sleep(2)\n"
   ]
  },
  {
   "cell_type": "code",
   "execution_count": 11,
   "id": "c0f2f506",
   "metadata": {},
   "outputs": [
    {
     "name": "stderr",
     "output_type": "stream",
     "text": [
      "/usr/lib/python3/dist-packages/requests/__init__.py:80: RequestsDependencyWarning: urllib3 (1.26.4) or chardet (3.0.4) doesn't match a supported version!\n",
      "  RequestsDependencyWarning)\n"
     ]
    }
   ],
   "source": [
    "import socket\n",
    "import threading\n",
    "from pyfcm import FCMNotification\n",
    "\n",
    "server_running = True\n",
    "\n",
    "def run_socket_server():\n",
    "    HOST = '0.0.0.0'  # Listen on all network interfaces\n",
    "    PORT = 5002\n",
    "\n",
    "    with socket.socket(socket.AF_INET, socket.SOCK_STREAM) as server_socket:\n",
    "        server_socket.bind((HOST, PORT))\n",
    "        server_socket.listen()\n",
    "\n",
    "        print(f\"Server listening on port {PORT}\")\n",
    "\n",
    "        while server_running:\n",
    "            client_socket, addr = server_socket.accept()\n",
    "            print(f\"Connected to {addr}\")\n",
    "\n",
    "            with client_socket:\n",
    "                while True:\n",
    "                    data = client_socket.recv(1024)\n",
    "                    if not data:\n",
    "                        break\n",
    "                    message = data.decode()\n",
    "                    print(f\"Received: {message}\")\n",
    "                    \n",
    "                    if message.startswith(\"token=\"):\n",
    "                        message_to_send = \"Token received\\n\"\n",
    "                        client_socket.sendall(message_to_send.encode())\n",
    "                        print(\"Token received message sent to client\")\n",
    "                    else:\n",
    "                        message_to_send = \"Token not received\\n\"\n",
    "                        client_socket.sendall(message_to_send.encode())\n",
    "                        print(\"Message sent\")"
   ]
  },
  {
   "cell_type": "code",
   "execution_count": null,
   "id": "05e0d129",
   "metadata": {},
   "outputs": [
    {
     "data": {
      "application/vnd.jupyter.widget-view+json": {
       "model_id": "24c3d40718a64919bf3f99ff167b63c0",
       "version_major": 2,
       "version_minor": 0
      },
      "text/plain": [
       "FloatProgress(value=0.5, bar_style='info', description='Blocked probability:', max=1.0, style=ProgressStyle(ba…"
      ]
     },
     "metadata": {},
     "output_type": "display_data"
    },
    {
     "data": {
      "application/vnd.jupyter.widget-view+json": {
       "model_id": "545debd31f444b44affa8998ab520e4e",
       "version_major": 2,
       "version_minor": 0
      },
      "text/plain": [
       "FloatProgress(value=0.5, bar_style='info', description='Free probability:', max=1.0, style=ProgressStyle(bar_c…"
      ]
     },
     "metadata": {},
     "output_type": "display_data"
    },
    {
     "data": {
      "application/vnd.jupyter.widget-view+json": {
       "model_id": "53c63eaa6d6445f9a9ff8fbee905f0b3",
       "version_major": 2,
       "version_minor": 0
      },
      "text/plain": [
       "FloatProgress(value=0.5, bar_style='info', description='Fid1 probability:', max=1.0, style=ProgressStyle(bar_c…"
      ]
     },
     "metadata": {},
     "output_type": "display_data"
    },
    {
     "data": {
      "application/vnd.jupyter.widget-view+json": {
       "model_id": "1a4076ac80414b2796431638b1509df0",
       "version_major": 2,
       "version_minor": 0
      },
      "text/plain": [
       "FloatProgress(value=0.5, bar_style='info', description='Fid2 probability:', max=1.0, style=ProgressStyle(bar_c…"
      ]
     },
     "metadata": {},
     "output_type": "display_data"
    },
    {
     "data": {
      "application/vnd.jupyter.widget-view+json": {
       "model_id": "f1b572b325c9450fac0c7d9116921c39",
       "version_major": 2,
       "version_minor": 0
      },
      "text/plain": [
       "FloatProgress(value=0.5, bar_style='info', description='Fid3 probability:', max=1.0, style=ProgressStyle(bar_c…"
      ]
     },
     "metadata": {},
     "output_type": "display_data"
    },
    {
     "data": {
      "application/vnd.jupyter.widget-view+json": {
       "model_id": "a366becb85c24c95b467423b89abded8",
       "version_major": 2,
       "version_minor": 0
      },
      "text/plain": [
       "FloatProgress(value=0.5, bar_style='info', description='Fid4 probability:', max=1.0, style=ProgressStyle(bar_c…"
      ]
     },
     "metadata": {},
     "output_type": "display_data"
    },
    {
     "data": {
      "application/vnd.jupyter.widget-view+json": {
       "model_id": "74a771f758f44ae98b72e8c8f20d70e9",
       "version_major": 2,
       "version_minor": 0
      },
      "text/plain": [
       "FloatProgress(value=0.5, bar_style='info', description='Fid5 probability:', max=1.0, style=ProgressStyle(bar_c…"
      ]
     },
     "metadata": {},
     "output_type": "display_data"
    },
    {
     "data": {
      "application/vnd.jupyter.widget-view+json": {
       "model_id": "6f0bb1701fba407eaa5de832c85ee7e8",
       "version_major": 2,
       "version_minor": 0
      },
      "text/plain": [
       "FloatProgress(value=0.5, bar_style='info', description='Fid6 probability:', max=1.0, style=ProgressStyle(bar_c…"
      ]
     },
     "metadata": {},
     "output_type": "display_data"
    },
    {
     "data": {
      "application/vnd.jupyter.widget-view+json": {
       "model_id": "02e20c2f26f048edbe98e819b6ade813",
       "version_major": 2,
       "version_minor": 0
      },
      "text/plain": [
       "FloatProgress(value=0.0, bar_style='info', description='Direction:', max=1.0, min=-1.0, style=ProgressStyle(ba…"
      ]
     },
     "metadata": {},
     "output_type": "display_data"
    },
    {
     "data": {
      "application/vnd.jupyter.widget-view+json": {
       "model_id": "de8f19b627094a9b8f7568f4d821af5a",
       "version_major": 2,
       "version_minor": 0
      },
      "text/plain": [
       "FloatText(value=0.0, description='FPS:')"
      ]
     },
     "metadata": {},
     "output_type": "display_data"
    },
    {
     "data": {
      "application/vnd.jupyter.widget-view+json": {
       "model_id": "520129aef5814b13b7b667ce5b89a448",
       "version_major": 2,
       "version_minor": 0
      },
      "text/plain": [
       "FloatText(value=1.0, description='Objetivo:')"
      ]
     },
     "metadata": {},
     "output_type": "display_data"
    },
    {
     "data": {
      "application/vnd.jupyter.widget-view+json": {
       "model_id": "d46bde1213604005be5de8057528bc5e",
       "version_major": 2,
       "version_minor": 0
      },
      "text/plain": [
       "Image(value=b'', format='jpeg', height='500', width='500')"
      ]
     },
     "metadata": {},
     "output_type": "display_data"
    },
    {
     "name": "stdout",
     "output_type": "stream",
     "text": [
      "New connection made!\n",
      "Control mode activated.\n"
     ]
    },
    {
     "name": "stderr",
     "output_type": "stream",
     "text": [
      "192.168.1.6 - - [13/Jun/2024 08:47:02] \"GET / HTTP/1.1\" 200 -\n",
      "192.168.1.6 - - [13/Jun/2024 08:47:03] \"GET /video_feed HTTP/1.1\" 200 -\n",
      "192.168.1.6 - - [13/Jun/2024 08:47:03] \"\u001b[33mGET /favicon.ico HTTP/1.1\u001b[0m\" 404 -\n",
      "192.168.1.6 - - [13/Jun/2024 08:47:12] \"GET / HTTP/1.1\" 200 -\n"
     ]
    },
    {
     "name": "stdout",
     "output_type": "stream",
     "text": [
      "New connection made!\n",
      "Control mode deactivated.\n"
     ]
    },
    {
     "name": "stderr",
     "output_type": "stream",
     "text": [
      "192.168.1.6 - - [13/Jun/2024 08:47:12] \"GET /video_feed HTTP/1.1\" 200 -\n",
      "192.168.1.6 - - [13/Jun/2024 08:47:12] \"\u001b[33mGET /favicon.ico HTTP/1.1\u001b[0m\" 404 -\n"
     ]
    },
    {
     "name": "stdout",
     "output_type": "stream",
     "text": [
      "QR Code Value: A2B3\n",
      "A: A2\n",
      "B: B3\n",
      "F: <module 'torch.nn.functional' from '/usr/local/lib/python3.6/dist-packages/torch/nn/functional.py'>\n",
      "QR Detected: True\n",
      "\n",
      "========================================\n",
      "Calculating gyro offsets\n",
      "DO NOT MOVE MPU6050...\n",
      "Done!\n",
      "X : -5.32\n",
      "Y : -2.05\n",
      "Z : -1.37\n",
      "Program will start after 3 seconds\n",
      "========================================Free\n",
      "Detect Obstacles\n",
      "Detect Obstacles\n",
      "Detect Obstacles\n"
     ]
    },
    {
     "name": "stderr",
     "output_type": "stream",
     "text": [
      "192.168.1.6 - - [13/Jun/2024 08:48:16] \"GET / HTTP/1.1\" 200 -\n"
     ]
    },
    {
     "name": "stdout",
     "output_type": "stream",
     "text": [
      "New connection made!\n",
      "Control mode activated.\n"
     ]
    },
    {
     "name": "stderr",
     "output_type": "stream",
     "text": [
      "192.168.1.6 - - [13/Jun/2024 08:48:16] \"GET /video_feed HTTP/1.1\" 200 -\n",
      "192.168.1.6 - - [13/Jun/2024 08:48:16] \"\u001b[33mGET /favicon.ico HTTP/1.1\u001b[0m\" 404 -\n",
      "192.168.1.6 - - [13/Jun/2024 08:48:31] \"GET / HTTP/1.1\" 200 -\n",
      "192.168.1.6 - - [13/Jun/2024 08:48:31] \"GET /video_feed HTTP/1.1\" 200 -\n",
      "192.168.1.6 - - [13/Jun/2024 08:48:31] \"\u001b[33mGET /favicon.ico HTTP/1.1\u001b[0m\" 404 -\n"
     ]
    },
    {
     "name": "stdout",
     "output_type": "stream",
     "text": [
      "New connection made!\n",
      "Control mode deactivated.\n"
     ]
    },
    {
     "name": "stderr",
     "output_type": "stream",
     "text": [
      "192.168.1.6 - - [13/Jun/2024 08:48:45] \"GET / HTTP/1.1\" 200 -\n",
      "192.168.1.6 - - [13/Jun/2024 08:48:46] \"GET /video_feed HTTP/1.1\" 200 -\n",
      "192.168.1.6 - - [13/Jun/2024 08:48:46] \"\u001b[33mGET /favicon.ico HTTP/1.1\u001b[0m\" 404 -\n"
     ]
    },
    {
     "name": "stdout",
     "output_type": "stream",
     "text": [
      "New connection made!\n",
      "Control mode activated.\n"
     ]
    },
    {
     "name": "stderr",
     "output_type": "stream",
     "text": [
      "192.168.1.6 - - [13/Jun/2024 08:49:41] \"GET / HTTP/1.1\" 200 -\n",
      "192.168.1.6 - - [13/Jun/2024 08:49:41] \"GET /video_feed HTTP/1.1\" 200 -\n",
      "192.168.1.6 - - [13/Jun/2024 08:49:41] \"\u001b[33mGET /favicon.ico HTTP/1.1\u001b[0m\" 404 -\n"
     ]
    },
    {
     "name": "stdout",
     "output_type": "stream",
     "text": [
      "New connection made!\n",
      "Control mode deactivated.\n",
      "Detect Obstacles\n",
      "Detect Obstacles\n",
      "Detect Obstacles\n"
     ]
    },
    {
     "name": "stderr",
     "output_type": "stream",
     "text": [
      "192.168.1.6 - - [13/Jun/2024 08:50:59] \"GET / HTTP/1.1\" 200 -\n",
      "192.168.1.6 - - [13/Jun/2024 08:50:59] \"GET /video_feed HTTP/1.1\" 200 -\n"
     ]
    },
    {
     "name": "stdout",
     "output_type": "stream",
     "text": [
      "New connection made!\n",
      "Control mode activated.\n"
     ]
    },
    {
     "name": "stderr",
     "output_type": "stream",
     "text": [
      "192.168.1.6 - - [13/Jun/2024 08:50:59] \"\u001b[33mGET /favicon.ico HTTP/1.1\u001b[0m\" 404 -\n",
      "192.168.1.6 - - [13/Jun/2024 08:54:42] \"GET / HTTP/1.1\" 200 -\n",
      "192.168.1.6 - - [13/Jun/2024 08:54:42] \"GET /video_feed HTTP/1.1\" 200 -\n"
     ]
    },
    {
     "name": "stdout",
     "output_type": "stream",
     "text": [
      "New connection made!\n",
      "Control mode deactivated.\n"
     ]
    },
    {
     "name": "stderr",
     "output_type": "stream",
     "text": [
      "192.168.1.6 - - [13/Jun/2024 08:54:42] \"\u001b[33mGET /favicon.ico HTTP/1.1\u001b[0m\" 404 -\n"
     ]
    },
    {
     "name": "stdout",
     "output_type": "stream",
     "text": [
      "Detect Obstacles\n",
      "Detect Obstacles\n",
      "Detect Obstacles\n",
      "Detect Obstacles\n",
      "Detect Obstacles\n",
      "Detect Obstacles\n",
      "Detect Obstacles\n",
      "Detect Obstacles\n",
      "Detect Obstacles\n"
     ]
    },
    {
     "name": "stderr",
     "output_type": "stream",
     "text": [
      "192.168.1.6 - - [13/Jun/2024 08:55:15] \"GET / HTTP/1.1\" 200 -\n",
      "192.168.1.6 - - [13/Jun/2024 08:55:15] \"GET /video_feed HTTP/1.1\" 200 -\n"
     ]
    },
    {
     "name": "stdout",
     "output_type": "stream",
     "text": [
      "New connection made!\n",
      "Control mode activated.\n"
     ]
    },
    {
     "name": "stderr",
     "output_type": "stream",
     "text": [
      "192.168.1.6 - - [13/Jun/2024 08:55:15] \"\u001b[33mGET /favicon.ico HTTP/1.1\u001b[0m\" 404 -\n",
      "192.168.1.6 - - [13/Jun/2024 08:56:56] \"GET / HTTP/1.1\" 200 -\n",
      "192.168.1.6 - - [13/Jun/2024 08:56:56] \"GET /video_feed HTTP/1.1\" 200 -\n"
     ]
    },
    {
     "name": "stdout",
     "output_type": "stream",
     "text": [
      "New connection made!\n",
      "Control mode deactivated.\n"
     ]
    },
    {
     "name": "stderr",
     "output_type": "stream",
     "text": [
      "192.168.1.6 - - [13/Jun/2024 08:56:56] \"\u001b[33mGET /favicon.ico HTTP/1.1\u001b[0m\" 404 -\n"
     ]
    },
    {
     "name": "stdout",
     "output_type": "stream",
     "text": [
      "Detect Obstacles\n",
      "Detect Obstacles\n",
      "162.59\n",
      "Complete\n",
      "Complete\n",
      "228.31\n",
      "239.68\n",
      "Complete\n",
      "Complete\n",
      "262.29\n",
      "256.38\n",
      "Complete\n",
      "Free\n",
      "Detect Obstacles\n",
      "Detect Obstacles\n",
      "Detect Obstacles\n",
      "Detect Obstacles\n",
      "Detect Obstacles\n",
      "Detect Obstacles\n",
      "Detect Obstacles\n",
      "Detect Obstacles\n",
      "Detect Obstacles\n",
      "Detect Obstacles\n",
      "Detect Obstacles\n",
      "Detect Obstacles\n",
      "Detect Obstacles\n",
      "Detect Obstacles\n",
      "Detect Obstacles\n",
      "Detect Obstacles\n",
      "Detect Obstacles\n",
      "Detect Obstacles\n",
      "Detect Obstacles\n",
      "Detect Obstacles\n",
      "Detect Obstacles\n",
      "Detect Obstacles\n",
      "Detect Obstacles\n",
      "Detect Obstacles\n",
      "Detect Obstacles\n",
      "Detect Obstacles\n",
      "Detect Obstacles\n",
      "Detect Obstacles\n",
      "Detect Obstacles\n",
      "Detect Obstacles\n",
      "Detect Obstacles\n",
      "Detect Obstacles\n",
      "Detect Obstacles\n",
      "320.77\n",
      "Complete\n",
      "Complete\n",
      "Detect Obstacles\n",
      "Detect Obstacles\n",
      "Detect Obstacles\n",
      "Detect Obstacles\n",
      "Detect Obstacles\n",
      "Detect Obstacles\n",
      "Detect Obstacles\n",
      "Detect Obstacles\n",
      "Detect Obstacles\n",
      "Detect Obstacles\n",
      "Detect Obstacles\n",
      "Detect Obstacles\n",
      "Detect Obstacles\n",
      "Detect Obstacles\n",
      "Detect Obstacles\n",
      "Detect Obstacles\n",
      "Detect Obstacles\n",
      "Detect Obstacles\n",
      "Detect Obstacles\n"
     ]
    },
    {
     "name": "stderr",
     "output_type": "stream",
     "text": [
      "192.168.1.6 - - [13/Jun/2024 09:14:57] \"GET / HTTP/1.1\" 200 -\n",
      "192.168.1.6 - - [13/Jun/2024 09:14:57] \"GET /video_feed HTTP/1.1\" 200 -\n"
     ]
    },
    {
     "name": "stdout",
     "output_type": "stream",
     "text": [
      "New connection made!\n",
      "Control mode deactivated.\n"
     ]
    },
    {
     "name": "stderr",
     "output_type": "stream",
     "text": [
      "192.168.1.6 - - [13/Jun/2024 09:14:57] \"\u001b[33mGET /favicon.ico HTTP/1.1\u001b[0m\" 404 -\n",
      "192.168.1.6 - - [13/Jun/2024 09:21:52] \"GET / HTTP/1.1\" 200 -\n",
      "192.168.1.6 - - [13/Jun/2024 09:21:52] \"GET /video_feed HTTP/1.1\" 200 -\n"
     ]
    },
    {
     "name": "stdout",
     "output_type": "stream",
     "text": [
      "New connection made!\n",
      "Control mode deactivated.\n"
     ]
    },
    {
     "name": "stderr",
     "output_type": "stream",
     "text": [
      "192.168.1.6 - - [13/Jun/2024 09:21:53] \"\u001b[33mGET /favicon.ico HTTP/1.1\u001b[0m\" 404 -\n"
     ]
    },
    {
     "name": "stdout",
     "output_type": "stream",
     "text": [
      "Detect Obstacles\n",
      "Detect Obstacles\n",
      "Detect Obstacles\n",
      "Detect Obstacles\n",
      "Detect Obstacles\n"
     ]
    },
    {
     "name": "stderr",
     "output_type": "stream",
     "text": [
      "192.168.1.6 - - [13/Jun/2024 09:22:48] \"GET / HTTP/1.1\" 200 -\n",
      "192.168.1.6 - - [13/Jun/2024 09:22:48] \"GET /video_feed HTTP/1.1\" 200 -\n"
     ]
    },
    {
     "name": "stdout",
     "output_type": "stream",
     "text": [
      "New connection made!\n",
      "Control mode deactivated.\n"
     ]
    },
    {
     "name": "stderr",
     "output_type": "stream",
     "text": [
      "192.168.1.6 - - [13/Jun/2024 09:22:48] \"\u001b[33mGET /favicon.ico HTTP/1.1\u001b[0m\" 404 -\n",
      "192.168.1.6 - - [13/Jun/2024 09:23:18] \"GET / HTTP/1.1\" 200 -\n",
      "192.168.1.6 - - [13/Jun/2024 09:23:18] \"GET /video_feed HTTP/1.1\" 200 -\n",
      "192.168.1.6 - - [13/Jun/2024 09:23:18] \"\u001b[33mGET /favicon.ico HTTP/1.1\u001b[0m\" 404 -\n"
     ]
    },
    {
     "name": "stdout",
     "output_type": "stream",
     "text": [
      "New connection made!\n",
      "Control mode deactivated.\n"
     ]
    },
    {
     "name": "stderr",
     "output_type": "stream",
     "text": [
      "192.168.1.6 - - [13/Jun/2024 09:23:42] \"GET / HTTP/1.1\" 200 -\n",
      "192.168.1.6 - - [13/Jun/2024 09:23:42] \"GET /video_feed HTTP/1.1\" 200 -\n"
     ]
    },
    {
     "name": "stdout",
     "output_type": "stream",
     "text": [
      "New connection made!\n",
      "Control mode deactivated.\n"
     ]
    },
    {
     "name": "stderr",
     "output_type": "stream",
     "text": [
      "192.168.1.6 - - [13/Jun/2024 09:23:42] \"\u001b[33mGET /favicon.ico HTTP/1.1\u001b[0m\" 404 -\n",
      "192.168.1.6 - - [13/Jun/2024 09:24:41] \"GET / HTTP/1.1\" 200 -\n"
     ]
    },
    {
     "name": "stdout",
     "output_type": "stream",
     "text": [
      "New connection made!\n",
      "Control mode activated.\n"
     ]
    },
    {
     "name": "stderr",
     "output_type": "stream",
     "text": [
      "192.168.1.6 - - [13/Jun/2024 09:24:41] \"GET /video_feed HTTP/1.1\" 200 -\n",
      "192.168.1.6 - - [13/Jun/2024 09:24:42] \"\u001b[33mGET /favicon.ico HTTP/1.1\u001b[0m\" 404 -\n",
      "192.168.1.6 - - [13/Jun/2024 09:35:52] \"GET / HTTP/1.1\" 200 -\n"
     ]
    },
    {
     "name": "stdout",
     "output_type": "stream",
     "text": [
      "New connection made!\n",
      "Control mode activated.\n"
     ]
    },
    {
     "name": "stderr",
     "output_type": "stream",
     "text": [
      "192.168.1.6 - - [13/Jun/2024 09:35:52] \"GET /video_feed HTTP/1.1\" 200 -\n",
      "192.168.1.6 - - [13/Jun/2024 09:35:52] \"\u001b[33mGET /favicon.ico HTTP/1.1\u001b[0m\" 404 -\n"
     ]
    }
   ],
   "source": [
    "display(blocked_disp,free_disp,fid1_disp,fid2_disp,fid3_disp,fid4_disp,fid5_disp,fid6_disp,steering_disp,fps,obj)\n",
    "import torch.nn.functional as F\n",
    "import queue\n",
    "\n",
    "t_dir = 0.0\n",
    "n_dir = 0.0\n",
    "t_tot = 0.0\n",
    "n_tot = 0\n",
    "fps_tot = 0\n",
    "t_tot_1 = time.time() \n",
    "\n",
    "objetivo = 1\n",
    "obj.value = objetivo\n",
    "\n",
    "# Hàng đợi để lưu trữ dữ liệu từ Arduino\n",
    "data_queue = queue.Queue()\n",
    "\n",
    "# Hàm đọc dữ liệu từ Arduino và đưa vào hàng đợi\n",
    "def read_from_serial():\n",
    "    while True:\n",
    "        if ser.in_waiting > 0:\n",
    "            line = ser.readline().decode('utf-8').rstrip()\n",
    "            data_queue.put(line)\n",
    "            \n",
    "# Tạo luồng để đọc dữ liệu từ Arduino\n",
    "serial_thread = threading.Thread(target=read_from_serial)\n",
    "serial_thread.daemon = True\n",
    "serial_thread.start()\n",
    "\n",
    "def get_next_serial_line():\n",
    "    if not data_queue.empty():\n",
    "        return data_queue.get()\n",
    "    return \"Null\"\n",
    "def clear_queue():\n",
    "    while not data_queue.empty():\n",
    "        try:\n",
    "            data_queue.get_nowait()\n",
    "        except queue.Empty:\n",
    "            break\n",
    "            \n",
    "# Initialize counter for consecutive detections\n",
    "fid1_consecutive_count = 0\n",
    "run_qr_code_reader()\n",
    "display(prediction_widget)\n",
    "while True:\n",
    "    if not running:\n",
    "        if qr_detected: \n",
    "            t_tot = time.time()\n",
    "            fps_tot = 1/(t_tot-t_tot_1)\n",
    "            t_tot_1 = t_tot\n",
    "            fps.value = fps_tot\n",
    "            for i in range(3):\n",
    "                x = camera.value\n",
    "            x = preprocess(x)\n",
    "            y = model(x)\n",
    "\n",
    "\n",
    "            # we apply the `softmax` function to normalize the output vector so it sums to 1 (which makes it a probability distribution)\n",
    "            y = F.softmax(y, dim=1)\n",
    "\n",
    "            prob_blocked = float(y.flatten()[0])\n",
    "            blocked_disp.value = prob_blocked\n",
    "            prob_fid1 = float(y.flatten()[1])\n",
    "            fid1_disp.value = prob_fid1\n",
    "            prob_fid2 = float(y.flatten()[2])\n",
    "            fid2_disp.value = prob_fid2\n",
    "            prob_fid3 = float(y.flatten()[3])\n",
    "            fid3_disp.value = prob_fid3\n",
    "            prob_fid4 = float(y.flatten()[4])\n",
    "            fid4_disp.value = prob_fid4\n",
    "            prob_fid5 = float(y.flatten()[5])\n",
    "            fid5_disp.value = prob_fid5\n",
    "            prob_fid6 = float(y.flatten()[6])\n",
    "            fid6_disp.value = prob_fid6\n",
    "            prob_free = float(y.flatten()[7])\n",
    "            free_disp.value = prob_free\n",
    "\n",
    "\n",
    "            prob_max = float(max(y.flatten()))\n",
    "            dirrect = \"right\"\n",
    "            line =  get_next_serial_line()\n",
    "            if not line == \"Null\":\n",
    "                print(line)\n",
    "            if prob_blocked == prob_max:\n",
    "                fid1_consecutive_count = 0\n",
    "                car.throttle = 0.0\n",
    "            elif line == \"Detect Obstacles\":\n",
    "                fid1_consecutive_count = 0\n",
    "                push_service = FCMNotification(api_key=\"AAAAR4SAIBs:APA91bE8hxTnaAuQFdx2PmOnXsNBZhKwFoSEX1b3Gr6YULkt7tTh9rMBaXB-EONyWTbIWI3KGnjiIGFCpSB7nPt6EYwHPGhopQ2rRAKFOoxM4_p1xN8eZU42bGlb5jYeUCtx06Y79Hl7\")\n",
    "                #registration_id = \"dZuIIHBhS1yEBpaeumyJ3G:APA91bGLiqPBTl7U8ommmhXAEaStJsjNu4pXpzbf4iXq0CYHOJWmeRUYAtk6YOgR2GIs9KqMQWSq5XyXW_T2zUnKn5PgPKDkgxtk2iu7uSoXr2RGZuulwS6KELJ-3MZV2b8UB__4jytn\"\n",
    "                registration_id = \"fdacs6KnQHauVXFj7GqkkA:APA91bFNsQcVwRGbHGIJAoHCXwEk1kRpj-9lY4rvDlb-F94xNy1i65Wkgw6D3OKcOU419jSTVJIMcXwDxPjtzUbHblhX88rSKK0oAAaTB6YiH5zgNpUfMsjY9lhKtNwbqpwTjue6W5Na\"\n",
    "                message_title = \"Jetracer\"\n",
    "                message_body = \"Detect Obstacles!!! Please process.\"\n",
    "                result = push_service.notify_single_device(registration_id=registration_id, message_title=message_title, message_body=message_body)\n",
    "                while line != \"Free\":\n",
    "                    car.throttle = 0.0\n",
    "                    line = get_next_serial_line()\n",
    "                    if running == True:\n",
    "                        break\n",
    "            elif prob_fid1 == prob_max and objetivo == 1:\n",
    "                fid1_consecutive_count += 1\n",
    "                if fid1_consecutive_count >= 2:\n",
    "                    clear_queue()\n",
    "                    ser.write(b'1')\n",
    "                    if A == \"A2\":\n",
    "                        while line != \"Complete\":\n",
    "                            car.throttle = -0.25\n",
    "                            car.steering = -1\n",
    "                            line = get_next_serial_line()\n",
    "                            if not line == \"Null\":\n",
    "                                print(line)\n",
    "                        ser.write(b'2')\n",
    "                        clear_queue()\n",
    "                    elif dirrect == \"left\":\n",
    "                        while line != \"Complete\":\n",
    "                            car.throttle = -0.25\n",
    "                            car.steering = 1\n",
    "                            line = get_next_serial_line()\n",
    "                            if not line == \"Null\":\n",
    "                                print(line)\n",
    "                        ser.write(b'2')\n",
    "                    clear_queue()\n",
    "            else:\n",
    "                fid1_consecutive_count = 0\n",
    "                car.throttle = -0.25\n",
    "                for i in range(3):\n",
    "                    x = camera.value\n",
    "                x = preprocess(x)\n",
    "                x = x.half()\n",
    "                output = model_trt(x).detach().cpu().numpy().flatten()\n",
    "                x1 = float(output[0])\n",
    "                car.steering = x1 * STEERING_GAIN + STEERING_BIAS\n",
    "                steering_disp.value = x1\n",
    "        else:\n",
    "            pass\n",
    "    else:\n",
    "        pass"
   ]
  },
  {
   "cell_type": "code",
   "execution_count": null,
   "id": "428e8f13",
   "metadata": {},
   "outputs": [],
   "source": []
  },
  {
   "cell_type": "code",
   "execution_count": null,
   "id": "a5e52365",
   "metadata": {},
   "outputs": [],
   "source": []
  }
 ],
 "metadata": {
  "kernelspec": {
   "display_name": "Python 3",
   "language": "python",
   "name": "python3"
  },
  "language_info": {
   "codemirror_mode": {
    "name": "ipython",
    "version": 3
   },
   "file_extension": ".py",
   "mimetype": "text/x-python",
   "name": "python",
   "nbconvert_exporter": "python",
   "pygments_lexer": "ipython3",
   "version": "3.6.9"
  }
 },
 "nbformat": 4,
 "nbformat_minor": 5
}
