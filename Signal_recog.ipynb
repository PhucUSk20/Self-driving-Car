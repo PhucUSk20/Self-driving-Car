{
 "cells": [
  {
   "cell_type": "markdown",
   "id": "be37c8d7",
   "metadata": {},
   "source": [
    "Initialize camera"
   ]
  },
  {
   "cell_type": "code",
   "execution_count": 1,
   "id": "931b7565",
   "metadata": {},
   "outputs": [],
   "source": [
    "from jetcam.csi_camera import CSICamera\n",
    "from jetcam.utils import bgr8_to_jpeg\n",
    "\n",
    "camera = CSICamera(width=224, height=224, capture_fps=20)"
   ]
  },
  {
   "cell_type": "markdown",
   "id": "0b18bc3b",
   "metadata": {},
   "source": [
    "Load model"
   ]
  },
  {
   "cell_type": "code",
   "execution_count": 2,
   "id": "5f392a7f",
   "metadata": {},
   "outputs": [],
   "source": [
    "from utils import preprocess\n",
    "import torchvision\n",
    "import torch\n",
    "from torch2trt import TRTModule\n",
    "\n",
    "#model = TRTModule()\n",
    "#ALEXNET\n",
    "model = torchvision.models.alexnet(pretrained=False)\n",
    "model.classifier[6] = torch.nn.Linear(model.classifier[6].in_features, 8)\n",
    "model.load_state_dict(torch.load('best_model5.pth'))\n",
    "device = torch.device('cuda')\n",
    "model = model.to(device)"
   ]
  },
  {
   "cell_type": "markdown",
   "id": "1cc00e4b",
   "metadata": {},
   "source": [
    "Define display"
   ]
  },
  {
   "cell_type": "code",
   "execution_count": 3,
   "id": "bf22096a",
   "metadata": {},
   "outputs": [],
   "source": [
    "import traitlets\n",
    "from IPython.display import display\n",
    "import ipywidgets.widgets as widgets\n",
    "\n",
    "#image = widgets.Image(format='jpeg', width=224, height=224)\n",
    "#camera_link = traitlets.dlink((camera, 'value'), (image, 'value'), transform=bgr8_to_jpeg)\n",
    "\n",
    "blocked_disp = widgets.FloatProgress(\n",
    "    value=0.5,\n",
    "    min=0,\n",
    "    max=1.0,\n",
    "    description='Blocked probability:',\n",
    "    bar_style='info',\n",
    "    style={'bar_color': '#ffff00'},\n",
    "    orientation='horizontal'\n",
    ")\n",
    "\n",
    "free_disp = widgets.FloatProgress(\n",
    "    value=0.5,\n",
    "    min=0,\n",
    "    max=1.0,\n",
    "    description='Free probability:',\n",
    "    bar_style='info',\n",
    "    style={'bar_color': '#ffff00'},\n",
    "    orientation='horizontal'\n",
    ")\n",
    "\n",
    "\n",
    "fid1_disp = widgets.FloatProgress(\n",
    "    value=0.5,\n",
    "    min=0,\n",
    "    max=1.0,\n",
    "    description='Fid1 probability:',\n",
    "    bar_style='info',\n",
    "    style={'bar_color': '#ffff00'},\n",
    "    orientation='horizontal'\n",
    ")\n",
    "\n",
    "fid2_disp = widgets.FloatProgress(\n",
    "    value=0.5,\n",
    "    min=0,\n",
    "    max=1.0,\n",
    "    description='Fid2 probability:',\n",
    "    bar_style='info',\n",
    "    style={'bar_color': '#ffff00'},\n",
    "    orientation='horizontal'\n",
    ")\n",
    "fid3_disp = widgets.FloatProgress(\n",
    "    value=0.5,\n",
    "    min=0,\n",
    "    max=1.0,\n",
    "    description='Fid3 probability:',\n",
    "    bar_style='info',\n",
    "    style={'bar_color': '#ffff00'},\n",
    "    orientation='horizontal'\n",
    ")\n",
    "\n",
    "fid4_disp = widgets.FloatProgress(\n",
    "    value=0.5,\n",
    "    min=0,\n",
    "    max=1.0,\n",
    "    description='Fid4 probability:',\n",
    "    bar_style='info',\n",
    "    style={'bar_color': '#ffff00'},\n",
    "    orientation='horizontal'\n",
    ")\n",
    "\n",
    "fid5_disp = widgets.FloatProgress(\n",
    "    value=0.5,\n",
    "    min=0,\n",
    "    max=1.0,\n",
    "    description='Fid5 probability:',\n",
    "    bar_style='info',\n",
    "    style={'bar_color': '#ffff00'},\n",
    "    orientation='horizontal'\n",
    ")\n",
    "\n",
    "fid6_disp = widgets.FloatProgress(\n",
    "    value=0.5,\n",
    "    min=0,\n",
    "    max=1.0,\n",
    "    description='Fid6 probability:',\n",
    "    bar_style='info',\n",
    "    style={'bar_color': '#ffff00'},\n",
    "    orientation='horizontal'\n",
    ")"
   ]
  },
  {
   "cell_type": "markdown",
   "id": "48f74d6b",
   "metadata": {},
   "source": [
    "Main block"
   ]
  },
  {
   "cell_type": "code",
   "execution_count": 6,
   "id": "c2454c6f",
   "metadata": {},
   "outputs": [
    {
     "data": {
      "application/vnd.jupyter.widget-view+json": {
       "model_id": "13f67cd7d5fc4941a2cb75b12e527421",
       "version_major": 2,
       "version_minor": 0
      },
      "text/plain": [
       "FloatProgress(value=0.744810163974762, bar_style='info', description='Free probability:', max=1.0, style=Progr…"
      ]
     },
     "metadata": {},
     "output_type": "display_data"
    },
    {
     "data": {
      "application/vnd.jupyter.widget-view+json": {
       "model_id": "ec017dd540d14343a15f9949fbe8a15b",
       "version_major": 2,
       "version_minor": 0
      },
      "text/plain": [
       "FloatProgress(value=0.09966202825307846, bar_style='info', description='Blocked probability:', max=1.0, style=…"
      ]
     },
     "metadata": {},
     "output_type": "display_data"
    },
    {
     "data": {
      "application/vnd.jupyter.widget-view+json": {
       "model_id": "920e1a2825f740aa936c2d262ee98787",
       "version_major": 2,
       "version_minor": 0
      },
      "text/plain": [
       "FloatProgress(value=0.0002896368387155235, bar_style='info', description='Fid1 probability:', max=1.0, style=P…"
      ]
     },
     "metadata": {},
     "output_type": "display_data"
    },
    {
     "data": {
      "application/vnd.jupyter.widget-view+json": {
       "model_id": "bfd33847ed0a4f73bea7f6b0110192ae",
       "version_major": 2,
       "version_minor": 0
      },
      "text/plain": [
       "FloatProgress(value=0.00017870917508844286, bar_style='info', description='Fid2 probability:', max=1.0, style=…"
      ]
     },
     "metadata": {},
     "output_type": "display_data"
    },
    {
     "data": {
      "application/vnd.jupyter.widget-view+json": {
       "model_id": "5d59e44cd15542e99fcf8635da0e7d55",
       "version_major": 2,
       "version_minor": 0
      },
      "text/plain": [
       "FloatProgress(value=0.039724018424749374, bar_style='info', description='Fid3 probability:', max=1.0, style=Pr…"
      ]
     },
     "metadata": {},
     "output_type": "display_data"
    },
    {
     "data": {
      "application/vnd.jupyter.widget-view+json": {
       "model_id": "cb3f3df0f82844d2878908e930659e59",
       "version_major": 2,
       "version_minor": 0
      },
      "text/plain": [
       "FloatProgress(value=0.020680570974946022, bar_style='info', description='Fid4 probability:', max=1.0, style=Pr…"
      ]
     },
     "metadata": {},
     "output_type": "display_data"
    },
    {
     "data": {
      "application/vnd.jupyter.widget-view+json": {
       "model_id": "322233ca431a4b87b44f452670c7261b",
       "version_major": 2,
       "version_minor": 0
      },
      "text/plain": [
       "FloatProgress(value=0.09312588721513748, bar_style='info', description='Fid5 probability:', max=1.0, style=Pro…"
      ]
     },
     "metadata": {},
     "output_type": "display_data"
    },
    {
     "data": {
      "application/vnd.jupyter.widget-view+json": {
       "model_id": "e3d45e29d43d42c6a8f0a3880d68b9b6",
       "version_major": 2,
       "version_minor": 0
      },
      "text/plain": [
       "FloatProgress(value=0.0015289618168026209, bar_style='info', description='Fid6 probability:', max=1.0, style=P…"
      ]
     },
     "metadata": {},
     "output_type": "display_data"
    }
   ],
   "source": [
    "display(free_disp,blocked_disp,fid1_disp,fid2_disp,fid3_disp,fid4_disp,fid5_disp,fid6_disp)\n",
    "import torch.nn.functional as F\n",
    "import time\n",
    "\n",
    "#Take image\n",
    "for i in range(30):\n",
    "    x = camera.read()\n",
    "x = preprocess(x)\n",
    "y = model(x)\n",
    "\n",
    "\n",
    "# we apply the `softmax` function to normalize the output vector so it sums to 1 (which makes it a probability distribution)\n",
    "y = F.softmax(y, dim=1)\n",
    "\n",
    "#Display probabilities\n",
    "prob_blocked = float(y.flatten()[0])\n",
    "blocked_disp.value = prob_blocked\n",
    "prob_fid1 = float(y.flatten()[1])\n",
    "fid1_disp.value = prob_fid1\n",
    "prob_fid2 = float(y.flatten()[2])\n",
    "fid2_disp.value = prob_fid2\n",
    "prob_fid3 = float(y.flatten()[3])\n",
    "fid3_disp.value = prob_fid3\n",
    "prob_fid4 = float(y.flatten()[4])\n",
    "fid4_disp.value = prob_fid4\n",
    "prob_fid5 = float(y.flatten()[5])\n",
    "fid5_disp.value = prob_fid5\n",
    "prob_fid6 = float(y.flatten()[6])\n",
    "fid6_disp.value = prob_fid6\n",
    "prob_free = float(y.flatten()[7])\n",
    "free_disp.value = prob_free\n",
    "\n",
    "\n"
   ]
  },
  {
   "cell_type": "code",
   "execution_count": null,
   "id": "154249a5",
   "metadata": {},
   "outputs": [],
   "source": []
  },
  {
   "cell_type": "code",
   "execution_count": null,
   "id": "96956a3e",
   "metadata": {},
   "outputs": [],
   "source": []
  },
  {
   "cell_type": "code",
   "execution_count": null,
   "id": "c464584e",
   "metadata": {},
   "outputs": [],
   "source": []
  }
 ],
 "metadata": {
  "kernelspec": {
   "display_name": "Python 3",
   "language": "python",
   "name": "python3"
  },
  "language_info": {
   "codemirror_mode": {
    "name": "ipython",
    "version": 3
   },
   "file_extension": ".py",
   "mimetype": "text/x-python",
   "name": "python",
   "nbconvert_exporter": "python",
   "pygments_lexer": "ipython3",
   "version": "3.6.9"
  }
 },
 "nbformat": 4,
 "nbformat_minor": 5
}
