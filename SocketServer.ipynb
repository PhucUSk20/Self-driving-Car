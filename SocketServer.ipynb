{
 "cells": [
  {
   "cell_type": "code",
   "execution_count": 1,
   "id": "2b5f1abd",
   "metadata": {},
   "outputs": [],
   "source": [
    "from jetracer.nvidia_racecar import NvidiaRacecar\n",
    "\n",
    "car = NvidiaRacecar()"
   ]
  },
  {
   "cell_type": "code",
   "execution_count": 2,
   "id": "e88492b8",
   "metadata": {},
   "outputs": [],
   "source": [
    "# lsof -i :5001\n",
    "# sudo kill -9 12930"
   ]
  },
  {
   "cell_type": "code",
   "execution_count": 3,
   "id": "e92e25ab",
   "metadata": {},
   "outputs": [
    {
     "name": "stdout",
     "output_type": "stream",
     "text": [
      "Server started at nano-4gb-jp451 on port 5001\n"
     ]
    }
   ],
   "source": [
    "#Imports Modules\n",
    "import socket\n",
    "#import RPi.GPIO as GPIO\n",
    "import time\n",
    "import threading\n",
    "\n",
    "running = True\n",
    "\n",
    "def start_server():\n",
    "    global running\n",
    "#Defines Server Values\n",
    "    listensocket = socket.socket()\n",
    "    Port = 5001\n",
    "    maxConnections = 999\n",
    "    IP = socket.gethostname() #Gets Hostname Of Current Macheine\n",
    "\n",
    "\n",
    "    listensocket.bind(('',Port))\n",
    "\n",
    "    #Opens Server\n",
    "    listensocket.listen(maxConnections)\n",
    "    print(\"Server started at \" + IP + \" on port \" + str(Port))\n",
    "\n",
    "    #Accepts Incomming Connection\n",
    "    (clientsocket, address) = listensocket.accept()\n",
    "    print(\"New connection made!\")\n",
    "\n",
    "\n",
    "\n",
    "    #Sets Up Indicator LED\n",
    "    #GPIO.setmode(GPIO.BOARD)\n",
    "    #GPIO.setup(7,GPIO.OUT)\n",
    "\n",
    "    #Main\n",
    "    while running:\n",
    "        message = clientsocket.recv(1024).decode() #Receives Message\n",
    "        # print(message)\n",
    "        message = message.strip()\n",
    "        if message == \"forward\":\n",
    "            car.throttle = -0.5 \n",
    "        elif message == \"left\":\n",
    "            car.steering = 1.0 \n",
    "        elif message == \"right\":\n",
    "            car.steering = -1.0 \n",
    "        elif message == \"forward_left\":\n",
    "            car.throttle = -0.5\n",
    "            car.steering = 1.0\n",
    "        elif message == \"forward_right\":\n",
    "            car.throttle = -0.5\n",
    "            car.steering = -1.0\n",
    "        elif message == \"reverse\":\n",
    "            car.throttle = 0.5 \n",
    "        elif message == \"reverse_left\":\n",
    "            car.throttle = 0.5\n",
    "            car.steering = 1.0\n",
    "        elif message == \"reverse_right\":\n",
    "            car.throttle = -0.5\n",
    "            car.steering = -1.0\n",
    "        elif message == \"stop\":\n",
    "            car.throttle = 0.0\n",
    "            car.steering = 0.0\n",
    "            \n",
    "server_thread = threading.Thread(target=start_server)\n",
    "server_thread.start()"
   ]
  },
  {
   "cell_type": "code",
   "execution_count": 12,
   "id": "7d2d0d3e",
   "metadata": {},
   "outputs": [],
   "source": [
    "running = False"
   ]
  },
  {
   "cell_type": "code",
   "execution_count": null,
   "id": "4241a459",
   "metadata": {},
   "outputs": [],
   "source": []
  }
 ],
 "metadata": {
  "kernelspec": {
   "display_name": "Python 3",
   "language": "python",
   "name": "python3"
  },
  "language_info": {
   "codemirror_mode": {
    "name": "ipython",
    "version": 3
   },
   "file_extension": ".py",
   "mimetype": "text/x-python",
   "name": "python",
   "nbconvert_exporter": "python",
   "pygments_lexer": "ipython3",
   "version": "3.6.9"
  }
 },
 "nbformat": 4,
 "nbformat_minor": 5
}
