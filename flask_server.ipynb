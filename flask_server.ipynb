{
 "cells": [
  {
   "cell_type": "code",
   "execution_count": 1,
   "id": "3e89e8b1",
   "metadata": {},
   "outputs": [],
   "source": [
    "from jetcam.csi_camera import CSICamera\n",
    "camera = CSICamera(width=500, height=500, capture_fps=65)\n",
    "camera.running = True"
   ]
  },
  {
   "cell_type": "code",
   "execution_count": 2,
   "id": "35f28848",
   "metadata": {},
   "outputs": [
    {
     "name": "stdout",
     "output_type": "stream",
     "text": [
      " * Serving Flask app '__main__' (lazy loading)\n",
      " * Environment: production\n",
      "\u001b[31m   WARNING: This is a development server. Do not use it in a production deployment.\u001b[0m\n",
      "\u001b[2m   Use a production WSGI server instead.\u001b[0m\n",
      " * Debug mode: off\n"
     ]
    },
    {
     "name": "stderr",
     "output_type": "stream",
     "text": [
      " * Running on all addresses.\n",
      "   WARNING: This is a development server. Do not use it in a production deployment.\n",
      " * Running on http://192.168.1.12:5000/ (Press CTRL+C to quit)\n",
      "192.168.1.13 - - [05/Apr/2024 08:57:22] \"GET / HTTP/1.1\" 200 -\n",
      "192.168.1.13 - - [05/Apr/2024 08:57:22] \"GET /video_feed HTTP/1.1\" 200 -\n",
      "192.168.1.13 - - [05/Apr/2024 08:57:22] \"\u001b[33mGET /favicon.ico HTTP/1.1\u001b[0m\" 404 -\n",
      "192.168.1.13 - - [05/Apr/2024 08:59:19] \"GET / HTTP/1.1\" 200 -\n",
      "192.168.1.13 - - [05/Apr/2024 08:59:19] \"GET /video_feed HTTP/1.1\" 200 -\n",
      "192.168.1.13 - - [05/Apr/2024 08:59:19] \"\u001b[33mGET /favicon.ico HTTP/1.1\u001b[0m\" 404 -\n",
      "192.168.1.13 - - [05/Apr/2024 09:00:09] \"GET / HTTP/1.1\" 200 -\n",
      "192.168.1.13 - - [05/Apr/2024 09:00:09] \"GET /video_feed HTTP/1.1\" 200 -\n",
      "192.168.1.13 - - [05/Apr/2024 09:00:09] \"\u001b[33mGET /favicon.ico HTTP/1.1\u001b[0m\" 404 -\n",
      "192.168.1.13 - - [05/Apr/2024 09:00:14] \"GET / HTTP/1.1\" 200 -\n",
      "192.168.1.13 - - [05/Apr/2024 09:00:14] \"GET /video_feed HTTP/1.1\" 200 -\n",
      "192.168.1.13 - - [05/Apr/2024 09:00:14] \"\u001b[33mGET /favicon.ico HTTP/1.1\u001b[0m\" 404 -\n",
      "192.168.1.13 - - [05/Apr/2024 09:00:48] \"GET / HTTP/1.1\" 200 -\n",
      "192.168.1.13 - - [05/Apr/2024 09:00:48] \"GET /video_feed HTTP/1.1\" 200 -\n",
      "192.168.1.13 - - [05/Apr/2024 09:00:49] \"\u001b[33mGET /favicon.ico HTTP/1.1\u001b[0m\" 404 -\n",
      "192.168.1.13 - - [05/Apr/2024 09:05:27] \"GET / HTTP/1.1\" 200 -\n",
      "192.168.1.13 - - [05/Apr/2024 09:05:27] \"GET /video_feed HTTP/1.1\" 200 -\n",
      "192.168.1.13 - - [05/Apr/2024 09:05:27] \"\u001b[33mGET /favicon.ico HTTP/1.1\u001b[0m\" 404 -\n",
      "192.168.1.13 - - [05/Apr/2024 09:07:42] \"GET / HTTP/1.1\" 200 -\n",
      "192.168.1.13 - - [05/Apr/2024 09:07:43] \"GET /video_feed HTTP/1.1\" 200 -\n",
      "192.168.1.13 - - [05/Apr/2024 09:07:43] \"\u001b[33mGET /favicon.ico HTTP/1.1\u001b[0m\" 404 -\n",
      "192.168.1.13 - - [05/Apr/2024 09:08:07] \"GET / HTTP/1.1\" 200 -\n",
      "192.168.1.13 - - [05/Apr/2024 09:08:07] \"GET /video_feed HTTP/1.1\" 200 -\n",
      "192.168.1.13 - - [05/Apr/2024 09:08:07] \"\u001b[33mGET /favicon.ico HTTP/1.1\u001b[0m\" 404 -\n",
      "192.168.1.13 - - [05/Apr/2024 09:15:25] \"GET / HTTP/1.1\" 200 -\n",
      "192.168.1.13 - - [05/Apr/2024 09:15:25] \"GET /video_feed HTTP/1.1\" 200 -\n",
      "192.168.1.13 - - [05/Apr/2024 09:15:26] \"\u001b[33mGET /favicon.ico HTTP/1.1\u001b[0m\" 404 -\n"
     ]
    }
   ],
   "source": [
    "#!/usr/bin/env python\n",
    "from flask import Flask, render_template, Response\n",
    "import cv2\n",
    "import threading\n",
    "\n",
    "\n",
    "app = Flask(__name__)\n",
    "\n",
    "server_running = True\n",
    "# After gen is called infinite loop will take frame by frame from camera class,\n",
    "# and yeild it to the client in jpeg data form\n",
    "def gen():\n",
    "    \"\"\"Video streaming generator function.\"\"\"\n",
    "    while server_running:\n",
    "        frame = camera.value\n",
    "        if frame is not None:\n",
    "            # Resize the frame to be twice as big\n",
    "            # frame = cv2.resize(frame, (frame.shape[1] * 2, frame.shape[0] * 2))\n",
    "            \n",
    "            # Encode the resized frame into JPEG format\n",
    "            frame_bytes = cv2.imencode('.jpg', frame)[1].tobytes()\n",
    "            yield (b'--frame\\r\\n'\n",
    "                   b'Content-Type: image/jpeg\\r\\n\\r\\n' + frame_bytes + b'\\r\\n')\n",
    "        else:\n",
    "            print(\"Error: Empty frame received.\")\n",
    "\n",
    "# When client is forwarded to /video_feed, it will call 'gen' function\n",
    "# with imported camera class as a paremeter\n",
    "@app.route('/video_feed')\n",
    "def video_feed():\n",
    "    \"\"\"Video streaming route. Put this in the src attribute of an img tag.\"\"\"\n",
    "    return Response(gen(), mimetype='multipart/x-mixed-replace; boundary=frame')\n",
    "\n",
    "# When client demands root, index.html will forward it to video feed\n",
    "@app.route('/')\n",
    "def index():\n",
    "    \"\"\"Seurveillance camera monitoring\"\"\"\n",
    "    return render_template('index.html')\n",
    "\n",
    "@app.route('/one')\n",
    "def hello_one():\n",
    "    return 'hello one'\n",
    "\n",
    "@app.route('/image')\n",
    "def image():\n",
    "    frame = camera.value\n",
    "    if frame is not None:\n",
    "        frame_bytes = cv2.imencode('.jpg', frame)[1].tobytes()\n",
    "        return Response(frame_bytes, mimetype='image/jpeg')\n",
    "    else:\n",
    "        # Handle case when the frame is empty\n",
    "        return \"Error: Empty frame received.\"\n",
    "\n",
    "def run_flask():\n",
    "    app.run(host='0.0.0.0', port=5000, threaded=True, debug=False, use_reloader=False)\n",
    "\n",
    "if __name__ == '__main__':\n",
    "    flask_thread = threading.Thread(target=run_flask)\n",
    "    flask_thread.start()"
   ]
  },
  {
   "cell_type": "code",
   "execution_count": null,
   "id": "b75bf27a",
   "metadata": {},
   "outputs": [],
   "source": []
  },
  {
   "cell_type": "code",
   "execution_count": 7,
   "id": "94939dd2",
   "metadata": {},
   "outputs": [],
   "source": [
    "server_running = False"
   ]
  },
  {
   "cell_type": "code",
   "execution_count": 4,
   "id": "110e4062",
   "metadata": {},
   "outputs": [],
   "source": [
    "camera.running = False\n",
    "camera.cap.release()"
   ]
  },
  {
   "cell_type": "code",
   "execution_count": null,
   "id": "c75bb1eb",
   "metadata": {},
   "outputs": [],
   "source": [
    "# lsof -i :5000 \n",
    "# sudo kill -9 12930"
   ]
  },
  {
   "cell_type": "code",
   "execution_count": null,
   "id": "5d390fd5",
   "metadata": {},
   "outputs": [],
   "source": []
  }
 ],
 "metadata": {
  "kernelspec": {
   "display_name": "Python 3",
   "language": "python",
   "name": "python3"
  },
  "language_info": {
   "codemirror_mode": {
    "name": "ipython",
    "version": 3
   },
   "file_extension": ".py",
   "mimetype": "text/x-python",
   "name": "python",
   "nbconvert_exporter": "python",
   "pygments_lexer": "ipython3",
   "version": "3.6.9"
  }
 },
 "nbformat": 4,
 "nbformat_minor": 5
}
