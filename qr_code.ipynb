{
 "cells": [
  {
   "cell_type": "code",
   "execution_count": null,
   "id": "7aca8dcd",
   "metadata": {},
   "outputs": [],
   "source": [
    "import cv2\n",
    "import ipywidgets\n",
    "import threading\n",
    "from jetracer.nvidia_racecar import NvidiaRacecar\n",
    "from jetcam.csi_camera import CSICamera\n",
    "import traitlets\n",
    "from IPython.display import display\n",
    "from ipywidgets import Layout, Button, Box\n",
    "import ipywidgets.widgets as widgets\n",
    "from jetcam.utils import bgr8_to_jpeg\n",
    "import cv2"
   ]
  },
  {
   "cell_type": "code",
   "execution_count": 2,
   "id": "0f530cf8",
   "metadata": {},
   "outputs": [],
   "source": [
    "car = NvidiaRacecar()\n",
    "camera = CSICamera(width=500, height=500, capture_fps=65)"
   ]
  },
  {
   "cell_type": "code",
   "execution_count": 3,
   "id": "b9c9129e",
   "metadata": {},
   "outputs": [],
   "source": [
    "camera.running = True"
   ]
  },
  {
   "cell_type": "code",
   "execution_count": null,
   "id": "62e4908a",
   "metadata": {},
   "outputs": [],
   "source": []
  },
  {
   "cell_type": "code",
   "execution_count": 4,
   "id": "3410b0ed",
   "metadata": {},
   "outputs": [],
   "source": [
    "prediction_widget = ipywidgets.Image(format='jpeg', width=500, height=500)"
   ]
  },
  {
   "cell_type": "code",
   "execution_count": 36,
   "id": "9816f864",
   "metadata": {},
   "outputs": [],
   "source": [
    "# can't detect using image capture from camera\n",
    "# image = camera.value\n",
    "# prediction_widget.value = bgr8_to_jpeg(image)\n",
    "\n",
    "# data, bbox, _ = detector.detectAndDecode(image)"
   ]
  },
  {
   "cell_type": "code",
   "execution_count": 5,
   "id": "27289694",
   "metadata": {},
   "outputs": [],
   "source": [
    "\n",
    "\n",
    "# Global variable to control thread execution\n",
    "qr_reader_running = True\n",
    "\n",
    "def read_qr_code_from_camera():\n",
    "    \"\"\"Read QR code from camera feed.\"\"\"\n",
    "    global qr_reader_running\n",
    "    \n",
    "    try:\n",
    "        detect = cv2.QRCodeDetector()\n",
    "\n",
    "        while qr_reader_running:\n",
    "            frame = camera.value  # Read a frame from the camera\n",
    "            prediction = frame.copy()\n",
    "            \n",
    "            value, bbox, straight_qrcode = detect.detectAndDecode(frame)\n",
    "\n",
    "            if value:\n",
    "                print(\"QR Code Value:\", value)\n",
    "                if bbox is not None and len(bbox) > 0:\n",
    "                    x1, y1 = bbox[0][0][0], bbox[0][0][1]\n",
    "                    x2, y2 = bbox[2][0][0], bbox[2][0][1]\n",
    "                 \n",
    "                    prediction = cv2.rectangle(prediction, (x1, y1), (x2, y2), (0, 0, 255), 2)\n",
    "                    prediction = cv2.putText(prediction, value, (int(x1), int(y1) - 10), cv2.FONT_HERSHEY_SIMPLEX, 1, (0, 0, 255), 2)\n",
    "\n",
    "            prediction_widget.value = bgr8_to_jpeg(prediction)\n",
    "\n",
    "    except Exception as e:\n",
    "        print(\"An error occurred:\", str(e))\n",
    "        return None\n",
    "\n",
    "# Function to stop the QR code reader thread\n",
    "def stop_qr_code_reader():\n",
    "    global qr_reader_running\n",
    "    qr_reader_running = False\n",
    "\n",
    "# Function to run read_qr_code_from_camera() in a separate thread\n",
    "def run_qr_code_reader():\n",
    "    global qr_reader_thread\n",
    "    qr_reader_thread = threading.Thread(target=read_qr_code_from_camera)\n",
    "    qr_reader_thread.start()\n",
    "\n",
    "# Call the function to start the QR code reader in a separate thread\n",
    "run_qr_code_reader()\n",
    "\n",
    "# Call the function to stop the QR code reader thread (wherever you want to stop it)\n",
    "# stop_qr_code_reader()"
   ]
  },
  {
   "cell_type": "code",
   "execution_count": 6,
   "id": "977920e3",
   "metadata": {},
   "outputs": [
    {
     "data": {
      "application/vnd.jupyter.widget-view+json": {
       "model_id": "0736501aced2403f97d9d6b3acc62be5",
       "version_major": 2,
       "version_minor": 0
      },
      "text/plain": [
       "Image(value=b'\\xff\\xd8\\xff\\xe0\\x00\\x10JFIF\\x00\\x01\\x01\\x00\\x00\\x01\\x00\\x01\\x00\\x00\\xff\\xdb\\x00C\\x00\\x02\\x01\\x0…"
      ]
     },
     "metadata": {},
     "output_type": "display_data"
    },
    {
     "name": "stdout",
     "output_type": "stream",
     "text": [
      "QR Code Value: Jetracer QR Code\n",
      "QR Code Value: Jetracer QR Code\n",
      "QR Code Value: Jetracer QR Code\n",
      "QR Code Value: Jetracer QR Code\n",
      "QR Code Value: Jetracer QR Code\n",
      "QR Code Value: Jetracer QR Code\n",
      "QR Code Value: Jetracer QR Code\n",
      "QR Code Value: Jetracer QR Code\n",
      "QR Code Value: Jetracer QR Code\n",
      "QR Code Value: Jetracer QR Code\n",
      "QR Code Value: Jetracer QR Code\n",
      "QR Code Value: Jetracer QR Code\n",
      "QR Code Value: Jetracer QR Code\n",
      "QR Code Value: Jetracer QR Code\n"
     ]
    }
   ],
   "source": [
    "display(prediction_widget)"
   ]
  },
  {
   "cell_type": "code",
   "execution_count": 7,
   "id": "ec05bd33",
   "metadata": {},
   "outputs": [
    {
     "data": {
      "text/plain": [
       "<function __main__.stop_qr_code_reader()>"
      ]
     },
     "execution_count": 7,
     "metadata": {},
     "output_type": "execute_result"
    }
   ],
   "source": [
    "stop_qr_code_reader"
   ]
  },
  {
   "cell_type": "code",
   "execution_count": null,
   "id": "b5f66956",
   "metadata": {},
   "outputs": [],
   "source": [
    "camera.running = False\n",
    "camera.cap.release()"
   ]
  }
 ],
 "metadata": {
  "kernelspec": {
   "display_name": "Python 3",
   "language": "python",
   "name": "python3"
  },
  "language_info": {
   "codemirror_mode": {
    "name": "ipython",
    "version": 3
   },
   "file_extension": ".py",
   "mimetype": "text/x-python",
   "name": "python",
   "nbconvert_exporter": "python",
   "pygments_lexer": "ipython3",
   "version": "3.6.9"
  }
 },
 "nbformat": 4,
 "nbformat_minor": 5
}
