{
 "cells": [
  {
   "cell_type": "code",
   "execution_count": null,
   "id": "6573d3f4",
   "metadata": {},
   "outputs": [],
   "source": [
    "import cv2\n",
    "from jetcam.csi_camera import CSICamera\n",
    "import ipywidgets\n",
    "import threading\n",
    "import traitlets\n",
    "from IPython.display import display\n",
    "from ipywidgets import Layout, Button, Box\n",
    "import ipywidgets.widgets as widgets\n",
    "from jetcam.utils import bgr8_to_jpeg\n",
    "from jetracer.nvidia_racecar import NvidiaRacecar"
   ]
  },
  {
   "cell_type": "code",
   "execution_count": null,
   "id": "ea09ea1d",
   "metadata": {},
   "outputs": [],
   "source": [
    "import cv2"
   ]
  },
  {
   "cell_type": "code",
   "execution_count": 2,
   "id": "ef48487d",
   "metadata": {},
   "outputs": [
    {
     "name": "stdout",
     "output_type": "stream",
     "text": [
      "hello\n"
     ]
    }
   ],
   "source": [
    "print ('hello')"
   ]
  },
  {
   "cell_type": "code",
   "execution_count": null,
   "id": "417b195b",
   "metadata": {},
   "outputs": [],
   "source": [
    "\n",
    "\n",
    "car = NvidiaRacecar()\n",
    "camera = CSICamera(width=500, height=500, capture_fps=65)"
   ]
  },
  {
   "cell_type": "code",
   "execution_count": 1,
   "id": "aa97130d",
   "metadata": {},
   "outputs": [
    {
     "ename": "NameError",
     "evalue": "name 'camera' is not defined",
     "output_type": "error",
     "traceback": [
      "\u001b[0;31m---------------------------------------------------------------------------\u001b[0m",
      "\u001b[0;31mNameError\u001b[0m                                 Traceback (most recent call last)",
      "\u001b[0;32m<ipython-input-1-420e8c5516cc>\u001b[0m in \u001b[0;36m<module>\u001b[0;34m\u001b[0m\n\u001b[0;32m----> 1\u001b[0;31m \u001b[0mcamera\u001b[0m\u001b[0;34m.\u001b[0m\u001b[0mrunning\u001b[0m \u001b[0;34m=\u001b[0m \u001b[0;32mTrue\u001b[0m\u001b[0;34m\u001b[0m\u001b[0;34m\u001b[0m\u001b[0m\n\u001b[0m",
      "\u001b[0;31mNameError\u001b[0m: name 'camera' is not defined"
     ]
    }
   ],
   "source": [
    "camera.running = True"
   ]
  },
  {
   "cell_type": "code",
   "execution_count": 1,
   "id": "141b4510",
   "metadata": {},
   "outputs": [
    {
     "ename": "SyntaxError",
     "evalue": "future feature annotations is not defined (qreader.py, line 12)",
     "output_type": "error",
     "traceback": [
      "Traceback \u001b[0;36m(most recent call last)\u001b[0m:\n",
      "  File \u001b[1;32m\"/usr/local/lib/python3.6/dist-packages/IPython/core/interactiveshell.py\"\u001b[0m, line \u001b[1;32m3343\u001b[0m, in \u001b[1;35mrun_code\u001b[0m\n    exec(code_obj, self.user_global_ns, self.user_ns)\n",
      "\u001b[0;36m  File \u001b[0;32m\"<ipython-input-1-0d1e733f1a45>\"\u001b[0;36m, line \u001b[0;32m1\u001b[0;36m, in \u001b[0;35m<module>\u001b[0;36m\u001b[0m\n\u001b[0;31m    from qreader import QReader\u001b[0m\n",
      "\u001b[0;36m  File \u001b[0;32m\"/home/jetson/.local/lib/python3.6/site-packages/qreader.py\"\u001b[0;36m, line \u001b[0;32m12\u001b[0m\n\u001b[0;31m    from __future__ import annotations\u001b[0m\n\u001b[0m                                      ^\u001b[0m\n\u001b[0;31mSyntaxError\u001b[0m\u001b[0;31m:\u001b[0m future feature annotations is not defined\n"
     ]
    }
   ],
   "source": [
    "from qreader import QReader"
   ]
  },
  {
   "cell_type": "code",
   "execution_count": 1,
   "id": "274e0959",
   "metadata": {},
   "outputs": [
    {
     "ename": "NameError",
     "evalue": "name 'ipywidgets' is not defined",
     "output_type": "error",
     "traceback": [
      "\u001b[0;31m---------------------------------------------------------------------------\u001b[0m",
      "\u001b[0;31mNameError\u001b[0m                                 Traceback (most recent call last)",
      "\u001b[0;32m<ipython-input-1-075538e10a7d>\u001b[0m in \u001b[0;36m<module>\u001b[0;34m\u001b[0m\n\u001b[0;32m----> 1\u001b[0;31m \u001b[0mprediction_widget\u001b[0m \u001b[0;34m=\u001b[0m \u001b[0mipywidgets\u001b[0m\u001b[0;34m.\u001b[0m\u001b[0mImage\u001b[0m\u001b[0;34m(\u001b[0m\u001b[0mformat\u001b[0m\u001b[0;34m=\u001b[0m\u001b[0;34m'jpeg'\u001b[0m\u001b[0;34m,\u001b[0m \u001b[0mwidth\u001b[0m\u001b[0;34m=\u001b[0m\u001b[0;36m500\u001b[0m\u001b[0;34m,\u001b[0m \u001b[0mheight\u001b[0m\u001b[0;34m=\u001b[0m\u001b[0;36m500\u001b[0m\u001b[0;34m)\u001b[0m\u001b[0;34m\u001b[0m\u001b[0;34m\u001b[0m\u001b[0m\n\u001b[0m",
      "\u001b[0;31mNameError\u001b[0m: name 'ipywidgets' is not defined"
     ]
    }
   ],
   "source": [
    "prediction_widget = ipywidgets.Image(format='jpeg', width=500, height=500)"
   ]
  },
  {
   "cell_type": "code",
   "execution_count": 2,
   "id": "deb60e6e",
   "metadata": {},
   "outputs": [
    {
     "ename": "SyntaxError",
     "evalue": "future feature annotations is not defined (qreader.py, line 12)",
     "output_type": "error",
     "traceback": [
      "Traceback \u001b[0;36m(most recent call last)\u001b[0m:\n",
      "  File \u001b[1;32m\"/usr/local/lib/python3.6/dist-packages/IPython/core/interactiveshell.py\"\u001b[0m, line \u001b[1;32m3343\u001b[0m, in \u001b[1;35mrun_code\u001b[0m\n    exec(code_obj, self.user_global_ns, self.user_ns)\n",
      "\u001b[0;36m  File \u001b[0;32m\"<ipython-input-2-690e9c620de6>\"\u001b[0;36m, line \u001b[0;32m1\u001b[0;36m, in \u001b[0;35m<module>\u001b[0;36m\u001b[0m\n\u001b[0;31m    from qreader import QReader\u001b[0m\n",
      "\u001b[0;36m  File \u001b[0;32m\"/home/jetson/.local/lib/python3.6/site-packages/qreader.py\"\u001b[0;36m, line \u001b[0;32m12\u001b[0m\n\u001b[0;31m    from __future__ import annotations\u001b[0m\n\u001b[0m                                      ^\u001b[0m\n\u001b[0;31mSyntaxError\u001b[0m\u001b[0;31m:\u001b[0m future feature annotations is not defined\n"
     ]
    }
   ],
   "source": [
    "from qreader import QReader\n",
    "\n",
    "# Global variable to control thread execution\n",
    "qr_reader_running = True\n",
    "\n",
    "# Create a QReader instance\n",
    "qreader = QReader()\n",
    "\n",
    "# Check if the video capture is open\n",
    "while qr_reader_running:\n",
    "    # Read a frame from the video capture\n",
    "    frame = camera.value\n",
    "    prediction = frame.copy()\n",
    "\n",
    "    # Convert the frame to RGB format\n",
    "    # rgb_frame = cv2.cvtColor(frame, cv2.COLOR_BGR2RGB)\n",
    "\n",
    "    # Use the detect_and_decode function to get the decoded QR data\n",
    "    found_qrs = qreader.detect_and_decode(image=frame, return_detections=True)\n",
    "    name_tuple, information_list = found_qrs\n",
    "    if len(information_list) > 0:\n",
    "        information_dict = information_list[0]\n",
    "        confidence = information_dict['confidence']\n",
    "        bbox_xyxy = information_dict['bbox_xyxy']\n",
    "\n",
    "        x1 = int(bbox_xyxy[0])\n",
    "        y1 = int(bbox_xyxy[1])\n",
    "        x2 = int(bbox_xyxy[2])\n",
    "        y2 = int(bbox_xyxy[3])\n",
    "\n",
    "        print(name_tuple)\n",
    "        print(\"Confidence:\", confidence)\n",
    "        print(\"Bounding Box Coordinates:\", bbox_xyxy)\n",
    "\n",
    "        cv2.putText(prediction, name_tuple[0], (x1, y1-5), cv2.FONT_HERSHEY_SIMPLEX, 1, (255, 0, 0), 2)\n",
    "        cv2.rectangle(prediction, (x1, y1), (x2, y2), (0, 255, 0), thickness=2)\n",
    "\n",
    "    prediction_widget.value = bgr8_to_jpeg(prediction)"
   ]
  },
  {
   "cell_type": "code",
   "execution_count": null,
   "id": "4e3ec978",
   "metadata": {},
   "outputs": [],
   "source": [
    "display(prediction_widget)"
   ]
  },
  {
   "cell_type": "code",
   "execution_count": null,
   "id": "ea1e58f6",
   "metadata": {},
   "outputs": [],
   "source": [
    "camera.running = False\n",
    "camera.cap.release()"
   ]
  }
 ],
 "metadata": {
  "kernelspec": {
   "display_name": "Python 3",
   "language": "python",
   "name": "python3"
  },
  "language_info": {
   "codemirror_mode": {
    "name": "ipython",
    "version": 3
   },
   "file_extension": ".py",
   "mimetype": "text/x-python",
   "name": "python",
   "nbconvert_exporter": "python",
   "pygments_lexer": "ipython3",
   "version": "3.6.9"
  }
 },
 "nbformat": 4,
 "nbformat_minor": 5
}
