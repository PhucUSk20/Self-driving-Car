{
 "cells": [
  {
   "cell_type": "markdown",
   "id": "20a3a009",
   "metadata": {},
   "source": [
    "We initialize the camera and the car"
   ]
  },
  {
   "cell_type": "code",
   "execution_count": 1,
   "id": "84ac6453",
   "metadata": {},
   "outputs": [],
   "source": [
    "from jetcam.csi_camera import CSICamera\n",
    "from jetcam.utils import bgr8_to_jpeg\n",
    "\n",
    "camera = CSICamera(width=224, height=224, capture_fps=40)\n",
    "\n",
    "from jetracer.nvidia_racecar import NvidiaRacecar\n",
    "\n",
    "car = NvidiaRacecar()"
   ]
  },
  {
   "cell_type": "markdown",
   "id": "e3a4c589",
   "metadata": {},
   "source": [
    "We load the road following model"
   ]
  },
  {
   "cell_type": "code",
   "execution_count": 2,
   "id": "31902b38",
   "metadata": {},
   "outputs": [
    {
     "data": {
      "text/plain": [
       "<All keys matched successfully>"
      ]
     },
     "execution_count": 2,
     "metadata": {},
     "output_type": "execute_result"
    }
   ],
   "source": [
    "import torch\n",
    "from torch2trt import TRTModule\n",
    "\n",
    "model_trt = TRTModule()\n",
    "model_trt.load_state_dict(torch.load('road_following_model2-Copy1.pth'))"
   ]
  },
  {
   "cell_type": "markdown",
   "id": "34c08f83",
   "metadata": {},
   "source": [
    "We set up the car and load the preprocess of images"
   ]
  },
  {
   "cell_type": "code",
   "execution_count": 3,
   "id": "39ecc083",
   "metadata": {},
   "outputs": [],
   "source": [
    "from utils import preprocess\n",
    "\n",
    "STEERING_GAIN = -2\n",
    "STEERING_BIAS = -0.3"
   ]
  },
  {
   "cell_type": "markdown",
   "id": "ff16a2e5",
   "metadata": {},
   "source": [
    "We load the signal recognition model"
   ]
  },
  {
   "cell_type": "code",
   "execution_count": 4,
   "id": "587a99ba",
   "metadata": {},
   "outputs": [],
   "source": [
    "import torchvision\n",
    "from torch2trt import TRTModule\n",
    "\n",
    "#model = TRTModule()\n",
    "#ALEXNET\n",
    "model = torchvision.models.alexnet(pretrained=False)\n",
    "model.classifier[6] = torch.nn.Linear(model.classifier[6].in_features, 8)\n",
    "model.load_state_dict(torch.load('recognition_model.pth'))\n",
    "device = torch.device('cuda')\n",
    "model = model.to(device)"
   ]
  },
  {
   "cell_type": "markdown",
   "id": "874ca260",
   "metadata": {},
   "source": [
    "We set up the display"
   ]
  },
  {
   "cell_type": "code",
   "execution_count": 5,
   "id": "cd74e641",
   "metadata": {},
   "outputs": [],
   "source": [
    "import traitlets\n",
    "from IPython.display import display\n",
    "import ipywidgets.widgets as widgets\n",
    "import time\n",
    "\n",
    "#image = widgets.Image(format='jpeg', width=224, height=224)\n",
    "#camera_link = traitlets.dlink((camera, 'value'), (image, 'value'), transform=bgr8_to_jpeg)\n",
    "\n",
    "blocked_disp = widgets.FloatProgress(\n",
    "    value=0.5,\n",
    "    min=0,\n",
    "    max=1.0,\n",
    "    description='Blocked probability:',\n",
    "    bar_style='info',\n",
    "    style={'bar_color': '#ffff00'},\n",
    "    orientation='horizontal'\n",
    ")\n",
    "\n",
    "free_disp = widgets.FloatProgress(\n",
    "    value=0.5,\n",
    "    min=0,\n",
    "    max=1.0,\n",
    "    description='Free probability:',\n",
    "    bar_style='info',\n",
    "    style={'bar_color': '#ffff00'},\n",
    "    orientation='horizontal'\n",
    ")\n",
    "\n",
    "\n",
    "fid1_disp = widgets.FloatProgress(\n",
    "    value=0.5,\n",
    "    min=0,\n",
    "    max=1.0,\n",
    "    description='Fid1 probability:',\n",
    "    bar_style='info',\n",
    "    style={'bar_color': '#ffff00'},\n",
    "    orientation='horizontal'\n",
    ")\n",
    "\n",
    "fid2_disp = widgets.FloatProgress(\n",
    "    value=0.5,\n",
    "    min=0,\n",
    "    max=1.0,\n",
    "    description='Fid2 probability:',\n",
    "    bar_style='info',\n",
    "    style={'bar_color': '#ffff00'},\n",
    "    orientation='horizontal'\n",
    ")\n",
    "fid3_disp = widgets.FloatProgress(\n",
    "    value=0.5,\n",
    "    min=0,\n",
    "    max=1.0,\n",
    "    description='Fid3 probability:',\n",
    "    bar_style='info',\n",
    "    style={'bar_color': '#ffff00'},\n",
    "    orientation='horizontal'\n",
    ")\n",
    "\n",
    "fid4_disp = widgets.FloatProgress(\n",
    "    value=0.5,\n",
    "    min=0,\n",
    "    max=1.0,\n",
    "    description='Fid4 probability:',\n",
    "    bar_style='info',\n",
    "    style={'bar_color': '#ffff00'},\n",
    "    orientation='horizontal'\n",
    ")\n",
    "\n",
    "fid5_disp = widgets.FloatProgress(\n",
    "    value=0.5,\n",
    "    min=0,\n",
    "    max=1.0,\n",
    "    description='Fid5 probability:',\n",
    "    bar_style='info',\n",
    "    style={'bar_color': '#ffff00'},\n",
    "    orientation='horizontal'\n",
    ")\n",
    "\n",
    "fid6_disp = widgets.FloatProgress(\n",
    "    value=0.5,\n",
    "    min=0,\n",
    "    max=1.0,\n",
    "    description='Fid6 probability:',\n",
    "    bar_style='info',\n",
    "    style={'bar_color': '#ffff00'},\n",
    "    orientation='horizontal'\n",
    ")\n",
    "\n",
    "steering_disp = widgets.FloatProgress(\n",
    "    value=0.0,\n",
    "    min=-1.0,\n",
    "    max=1.0,\n",
    "    description='Direction:',\n",
    "    bar_style='info',\n",
    "    style={'bar_color': '#ffff00'},\n",
    "    orientation='horizontal'\n",
    ")\n",
    "\n",
    "fps = widgets.FloatText(\n",
    "    value=0.0,\n",
    "    description='FPS:',\n",
    "    disabled=False\n",
    ")\n",
    "\n",
    "obj = widgets.FloatText(\n",
    "    value=1,\n",
    "    description='Objetivo:',\n",
    "    disabled=False\n",
    ")\n",
    "\n"
   ]
  },
  {
   "cell_type": "markdown",
   "id": "7a6c7dc0",
   "metadata": {},
   "source": [
    "Main function"
   ]
  },
  {
   "cell_type": "code",
   "execution_count": null,
   "id": "0ed93b2d",
   "metadata": {},
   "outputs": [
    {
     "data": {
      "application/vnd.jupyter.widget-view+json": {
       "model_id": "e657e4bd74fd4700bf961079565719d0",
       "version_major": 2,
       "version_minor": 0
      },
      "text/plain": [
       "FloatProgress(value=0.5, bar_style='info', description='Blocked probability:', max=1.0, style=ProgressStyle(ba…"
      ]
     },
     "metadata": {},
     "output_type": "display_data"
    },
    {
     "data": {
      "application/vnd.jupyter.widget-view+json": {
       "model_id": "2e8a39d11a5d45ba9c150d17999b4fb8",
       "version_major": 2,
       "version_minor": 0
      },
      "text/plain": [
       "FloatProgress(value=0.5, bar_style='info', description='Free probability:', max=1.0, style=ProgressStyle(bar_c…"
      ]
     },
     "metadata": {},
     "output_type": "display_data"
    },
    {
     "data": {
      "application/vnd.jupyter.widget-view+json": {
       "model_id": "cdf74fe151f9490198728d1bb41a7b80",
       "version_major": 2,
       "version_minor": 0
      },
      "text/plain": [
       "FloatProgress(value=0.5, bar_style='info', description='Fid1 probability:', max=1.0, style=ProgressStyle(bar_c…"
      ]
     },
     "metadata": {},
     "output_type": "display_data"
    },
    {
     "data": {
      "application/vnd.jupyter.widget-view+json": {
       "model_id": "4876b29649ba41d094e6e5eb169bc5e6",
       "version_major": 2,
       "version_minor": 0
      },
      "text/plain": [
       "FloatProgress(value=0.5, bar_style='info', description='Fid2 probability:', max=1.0, style=ProgressStyle(bar_c…"
      ]
     },
     "metadata": {},
     "output_type": "display_data"
    },
    {
     "data": {
      "application/vnd.jupyter.widget-view+json": {
       "model_id": "d8555ed18dbf48ea8566f20983eb8208",
       "version_major": 2,
       "version_minor": 0
      },
      "text/plain": [
       "FloatProgress(value=0.5, bar_style='info', description='Fid3 probability:', max=1.0, style=ProgressStyle(bar_c…"
      ]
     },
     "metadata": {},
     "output_type": "display_data"
    },
    {
     "data": {
      "application/vnd.jupyter.widget-view+json": {
       "model_id": "d767ed24ba4b4da7969c18ed657b532b",
       "version_major": 2,
       "version_minor": 0
      },
      "text/plain": [
       "FloatProgress(value=0.5, bar_style='info', description='Fid4 probability:', max=1.0, style=ProgressStyle(bar_c…"
      ]
     },
     "metadata": {},
     "output_type": "display_data"
    },
    {
     "data": {
      "application/vnd.jupyter.widget-view+json": {
       "model_id": "2ac36e8f26094bcca363181348fcabfe",
       "version_major": 2,
       "version_minor": 0
      },
      "text/plain": [
       "FloatProgress(value=0.5, bar_style='info', description='Fid5 probability:', max=1.0, style=ProgressStyle(bar_c…"
      ]
     },
     "metadata": {},
     "output_type": "display_data"
    },
    {
     "data": {
      "application/vnd.jupyter.widget-view+json": {
       "model_id": "e8a9570885194755895e216fc4125267",
       "version_major": 2,
       "version_minor": 0
      },
      "text/plain": [
       "FloatProgress(value=0.5, bar_style='info', description='Fid6 probability:', max=1.0, style=ProgressStyle(bar_c…"
      ]
     },
     "metadata": {},
     "output_type": "display_data"
    },
    {
     "data": {
      "application/vnd.jupyter.widget-view+json": {
       "model_id": "96ae46cfa4b24cf08bc095a4326d3e9f",
       "version_major": 2,
       "version_minor": 0
      },
      "text/plain": [
       "FloatProgress(value=0.0, bar_style='info', description='Direction:', max=1.0, min=-1.0, style=ProgressStyle(ba…"
      ]
     },
     "metadata": {},
     "output_type": "display_data"
    },
    {
     "data": {
      "application/vnd.jupyter.widget-view+json": {
       "model_id": "e527a98f499443dbb192539e6d3c9ab9",
       "version_major": 2,
       "version_minor": 0
      },
      "text/plain": [
       "FloatText(value=0.0, description='FPS:')"
      ]
     },
     "metadata": {},
     "output_type": "display_data"
    },
    {
     "data": {
      "application/vnd.jupyter.widget-view+json": {
       "model_id": "f42f233834aa41a387380c7712e552f2",
       "version_major": 2,
       "version_minor": 0
      },
      "text/plain": [
       "FloatText(value=1.0, description='Objetivo:')"
      ]
     },
     "metadata": {},
     "output_type": "display_data"
    }
   ],
   "source": [
    "display(blocked_disp,free_disp,fid1_disp,fid2_disp,fid3_disp,fid4_disp,fid5_disp,fid6_disp,steering_disp,fps,obj)\n",
    "import torch.nn.functional as F\n",
    "import time\n",
    "\n",
    "t_dir = 0.0\n",
    "n_dir = 0.0\n",
    "t_tot = 0.0\n",
    "n_tot = 0\n",
    "fps_tot = 0\n",
    "t_tot_1 = time.time() \n",
    "\n",
    "objetivo = 1\n",
    "obj.value = objetivo\n",
    "turn_left_start_time_fid1 = None \n",
    "turn_right_start_time_fid4 = None \n",
    "turn_duration = 1\n",
    "while True:\n",
    "    t_tot = time.time()\n",
    "    fps_tot = 1/(t_tot-t_tot_1)\n",
    "    t_tot_1 = t_tot\n",
    "    fps.value = fps_tot\n",
    "    for i in range(3):\n",
    "        x = camera.read()\n",
    "    x = preprocess(x)\n",
    "    y = model(x)\n",
    "    \n",
    "\n",
    "    # we apply the `softmax` function to normalize the output vector so it sums to 1 (which makes it a probability distribution)\n",
    "    y = F.softmax(y, dim=1)\n",
    "    \n",
    "    prob_blocked = float(y.flatten()[0])\n",
    "    blocked_disp.value = prob_blocked\n",
    "    prob_fid1 = float(y.flatten()[1])\n",
    "    fid1_disp.value = prob_fid1\n",
    "    prob_fid2 = float(y.flatten()[2])\n",
    "    fid2_disp.value = prob_fid2\n",
    "    prob_fid3 = float(y.flatten()[3])\n",
    "    fid3_disp.value = prob_fid3\n",
    "    prob_fid4 = float(y.flatten()[4])\n",
    "    fid4_disp.value = prob_fid4\n",
    "    prob_fid5 = float(y.flatten()[5])\n",
    "    fid5_disp.value = prob_fid5\n",
    "    prob_fid6 = float(y.flatten()[6])\n",
    "    fid6_disp.value = prob_fid6\n",
    "    prob_free = float(y.flatten()[7])\n",
    "    free_disp.value = prob_free\n",
    "    \n",
    "    \n",
    "    prob_max = float(max(y.flatten()))\n",
    "    dirrect = \"left\"\n",
    "    if prob_blocked == prob_max:\n",
    "        car.throttle = 0.0\n",
    "    elif prob_fid1 == prob_max and objetivo == 1:\n",
    "        turn_left_start_time_fid1 = time.time()\n",
    "        if dirrect == \"right\":\n",
    "            while (time.time() - turn_left_start_time_fid1 < turn_duration ):\n",
    "                car.throttle = -0.35\n",
    "                car.steering = -1\n",
    "        elif dirrect == \"left\":\n",
    "            while (time.time() - turn_left_start_time_fid1 < turn_duration ):\n",
    "                car.throttle = -0.35\n",
    "                car.steering = 1\n",
    "    elif prob_fid4 == prob_max and objetivo == 1:\n",
    "        turn_right_start_time_fid4 = time.time()\n",
    "    elif prob_fid6 == prob_max and objetivo == 6:\n",
    "        objetivo = 1\n",
    "        car.throttle = 0.0\n",
    "        time.sleep(6)\n",
    "        obj.value = objetivo\n",
    "    else:\n",
    "        time_stop = 0\n",
    "        car.throttle = -0.35\n",
    "        for i in range(3):\n",
    "            x = camera.read()\n",
    "        x = preprocess(x)\n",
    "        x = x.half()\n",
    "        output = model_trt(x).detach().cpu().numpy().flatten()\n",
    "        x1 = float(output[0])\n",
    "        car.steering = x1 * STEERING_GAIN + STEERING_BIAS\n",
    "        steering_disp.value = x1\n",
    "\n"
   ]
  },
  {
   "cell_type": "markdown",
   "id": "5effa6a7",
   "metadata": {},
   "source": [
    "Stop the car"
   ]
  },
  {
   "cell_type": "code",
   "execution_count": null,
   "id": "ed23f5f7",
   "metadata": {},
   "outputs": [],
   "source": []
  },
  {
   "cell_type": "code",
   "execution_count": 2,
   "id": "4c4fd40e",
   "metadata": {},
   "outputs": [
    {
     "ename": "NameError",
     "evalue": "name 'camera' is not defined",
     "output_type": "error",
     "traceback": [
      "\u001b[0;31m---------------------------------------------------------------------------\u001b[0m",
      "\u001b[0;31mNameError\u001b[0m                                 Traceback (most recent call last)",
      "\u001b[0;32m<ipython-input-2-4479cee1ccd8>\u001b[0m in \u001b[0;36m<module>\u001b[0;34m\u001b[0m\n\u001b[0;32m----> 1\u001b[0;31m \u001b[0mcamera\u001b[0m\u001b[0;34m.\u001b[0m\u001b[0mrunning\u001b[0m \u001b[0;34m=\u001b[0m \u001b[0;32mFalse\u001b[0m\u001b[0;34m\u001b[0m\u001b[0;34m\u001b[0m\u001b[0m\n\u001b[0m\u001b[1;32m      2\u001b[0m \u001b[0mcamera\u001b[0m\u001b[0;34m.\u001b[0m\u001b[0mcap\u001b[0m\u001b[0;34m.\u001b[0m\u001b[0mrelease\u001b[0m\u001b[0;34m(\u001b[0m\u001b[0;34m)\u001b[0m\u001b[0;34m\u001b[0m\u001b[0;34m\u001b[0m\u001b[0m\n",
      "\u001b[0;31mNameError\u001b[0m: name 'camera' is not defined"
     ]
    }
   ],
   "source": [
    "car.throttle = 0.0"
   ]
  },
  {
   "cell_type": "code",
   "execution_count": null,
   "id": "edc35673",
   "metadata": {},
   "outputs": [],
   "source": [
    "camera.running = False\n",
    "camera.cap.release()"
   ]
  }
 ],
 "metadata": {
  "kernelspec": {
   "display_name": "Python 3",
   "language": "python",
   "name": "python3"
  },
  "language_info": {
   "codemirror_mode": {
    "name": "ipython",
    "version": 3
   },
   "file_extension": ".py",
   "mimetype": "text/x-python",
   "name": "python",
   "nbconvert_exporter": "python",
   "pygments_lexer": "ipython3",
   "version": "3.6.9"
  }
 },
 "nbformat": 4,
 "nbformat_minor": 5
}
